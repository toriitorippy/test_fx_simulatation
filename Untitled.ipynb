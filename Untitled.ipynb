{
 "cells": [
  {
   "cell_type": "code",
   "execution_count": 158,
   "metadata": {},
   "outputs": [],
   "source": [
    "from oandapyV20 import API\n",
    "from oandapyV20.exceptions import V20Error\n",
    "from oandapyV20.endpoints.pricing import PricingStream\n",
    "import oandapyV20.endpoints.orders as orders\n",
    "import oandapyV20.endpoints.instruments as instruments\n",
    "import oandapyV20.endpoints.accounts as accounts\n",
    "import oandapyV20.endpoints.positions as positions\n",
    "\n",
    "accountID = \"101-009-15065836-001\"\n",
    "access_token = ' 8ec2523da72b0e7d818764094c98cc74-3c1036b692b3c82e3e46847a895641ed'\n",
    "\n",
    "api = API(access_token=access_token, environment=\"practice\")\n",
    "\n",
    "params = { \"instruments\": \"EUR_USD,EUR_JPY,USD_JPY\" }\n",
    "r = accounts.AccountInstruments(accountID=accountID, params=params)\n",
    "current_info = api.request(r)\n"
   ]
  },
  {
   "cell_type": "code",
   "execution_count": 154,
   "metadata": {},
   "outputs": [
    {
     "name": "stdout",
     "output_type": "stream",
     "text": [
      "純資産: 3000045.4180\n",
      "利益： 45.9711\n"
     ]
    }
   ],
   "source": [
    "#現在のアカウント情報\n",
    "r = accounts.AccountSummary(accountID)\n",
    "account_info=api.request(r)\n",
    "print('純資産:',account_info['account']['NAV'])\n",
    "print('利益：',account_info['account']['pl'])"
   ]
  },
  {
   "cell_type": "code",
   "execution_count": 78,
   "metadata": {},
   "outputs": [
    {
     "data": {
      "text/plain": [
       "[105478,\n",
       " 105454,\n",
       " 105434,\n",
       " 105350,\n",
       " 105342,\n",
       " 105340,\n",
       " 105324,\n",
       " 105270,\n",
       " 105299,\n",
       " 105310]"
      ]
     },
     "execution_count": 78,
     "metadata": {},
     "output_type": "execute_result"
    }
   ],
   "source": [
    "#過去100分取得\n",
    "params = {\n",
    "  \"count\": 10,\n",
    "  \"granularity\": \"M5\"\n",
    "}\n",
    "r = instruments.InstrumentsCandles(instrument=\"USD_JPY\", params=params)\n",
    "past_info = api.request(r)\n",
    "open_list = []\n",
    "for i in range(10):\n",
    "    open_list.append(int(past_info['candles'][i]['mid']['o'].replace('.', '')))\n",
    "open_list"
   ]
  },
  {
   "cell_type": "code",
   "execution_count": 68,
   "metadata": {},
   "outputs": [
    {
     "data": {
      "text/plain": [
       "[<matplotlib.lines.Line2D at 0x1ffb646f848>]"
      ]
     },
     "execution_count": 68,
     "metadata": {},
     "output_type": "execute_result"
    },
    {
     "data": {
      "image/png": "[encoded data removed]",
      "text/plain": [
       "<Figure size 432x288 with 1 Axes>"
      ]
     },
     "metadata": {
      "needs_background": "light"
     },
     "output_type": "display_data"
    }
   ],
   "source": [
    "import matplotlib.pyplot as plt\n",
    "import numpy as np\n",
    "\n",
    "x = np.linspace(0, 1, 10)\n",
    "plt.plot(x,open_list)"
   ]
  },
  {
   "cell_type": "code",
   "execution_count": 142,
   "metadata": {},
   "outputs": [
    {
     "name": "stdout",
     "output_type": "stream",
     "text": [
      "False\n",
      "1 0\n"
     ]
    }
   ],
   "source": [
    "r = positions.OpenPositions(accountID=accountID)\n",
    "position = api.request(r)\n",
    "\n",
    "is_position_null = False #positionがあるかどうか\n",
    "if position['positions'] == []:\n",
    "    is_position_null = True\n",
    "else:\n",
    "    long = int(position['positions'][0]['long']['units'])\n",
    "    short = int(position['positions'][0]['short']['units'])\n",
    "print(is_position_null)\n",
    "print(long,short)"
   ]
  },
  {
   "cell_type": "code",
   "execution_count": 159,
   "metadata": {},
   "outputs": [
    {
     "name": "stdout",
     "output_type": "stream",
     "text": [
      "{'longOrderCreateTransaction': {'type': 'MARKET_ORDER', 'instrument': 'USD_JPY', 'units': '-1', 'timeInForce': 'FOK', 'positionFill': 'REDUCE_ONLY', 'reason': 'POSITION_CLOSEOUT', 'longPositionCloseout': {'instrument': 'USD_JPY', 'units': '1'}, 'id': '54', 'accountID': '101-009-15065836-001', 'userID': 15065836, 'batchID': '54', 'requestID': '78762732842314303', 'time': '2020-08-28T15:47:46.508153508Z'}, 'longOrderFillTransaction': {'type': 'ORDER_FILL', 'orderID': '54', 'instrument': 'USD_JPY', 'units': '-1', 'requestedUnits': '-1', 'price': '105.274', 'pl': '-0.0040', 'financing': '0.0000', 'commission': '0.0000', 'accountBalance': '3000045.4180', 'gainQuoteHomeConversionFactor': '1', 'lossQuoteHomeConversionFactor': '1', 'guaranteedExecutionFee': '0.0000', 'halfSpreadCost': '0.0020', 'fullVWAP': '105.274', 'reason': 'MARKET_ORDER_POSITION_CLOSEOUT', 'tradesClosed': [{'tradeID': '53', 'units': '-1', 'realizedPL': '-0.0040', 'financing': '0.0000', 'price': '105.274', 'guaranteedExecutionFee': '0.0000', 'halfSpreadCost': '0.0020'}], 'fullPrice': {'closeoutBid': '105.269', 'closeoutAsk': '105.282', 'timestamp': '2020-08-28T15:47:37.031909346Z', 'bids': [{'price': '105.274', 'liquidity': '250000'}], 'asks': [{'price': '105.278', 'liquidity': '249999'}]}, 'id': '55', 'accountID': '101-009-15065836-001', 'userID': 15065836, 'batchID': '54', 'requestID': '78762732842314303', 'time': '2020-08-28T15:47:46.508153508Z'}, 'relatedTransactionIDs': ['54', '55'], 'lastTransactionID': '55'}\n"
     ]
    }
   ],
   "source": [
    "diff1 = open_list[9] - open_list[5] #最近のモノ\n",
    "diff2 = open_list[4] - open_list[0] #少し前のモノ\n",
    "\n",
    "if is_position_null:\n",
    "    if diff1 > 0 and diff2 > 0:\n",
    "        if diff1 > diff2: #もし上がる傾向が強くなっていたら\n",
    "            #買う\n",
    "            print('None→buy')\n",
    "            data = {\n",
    "              \"order\": {\n",
    "                \"instrument\": \"USD_JPY\",\n",
    "                \"units\": \"+10\",\n",
    "                \"type\": \"MARKET\",\n",
    "                \"positionFill\": \"DEFAULT\"\n",
    "              }\n",
    "            }\n",
    "\n",
    "            r = orders.OrderCreate(accountID, data=data)\n",
    "            a = api.request(r)\n",
    "\n",
    "    if diff1 < 0 and diff2 < 0:\n",
    "        if diff1 < diff2: #もし下がる傾向が強くなっていたら\n",
    "            #売る\n",
    "            print('None→sell')\n",
    "            data = {\n",
    "              \"order\": {\n",
    "                \"instrument\": \"USD_JPY\",\n",
    "                \"units\": \"-10\",\n",
    "                \"type\": \"MARKET\",\n",
    "                \"positionFill\": \"DEFAULT\"\n",
    "              }\n",
    "            }\n",
    "\n",
    "            r = orders.OrderCreate(accountID, data=data)\n",
    "            a = api.request(r)\n",
    "else:\n",
    "    if not long ==0:\n",
    "        if diff1 < diff2: #上がる傾向が弱くなっていたら\n",
    "            print('buy→None')\n",
    "            data = {\n",
    "              \"longUnits\": str(long)\n",
    "            }\n",
    "            r = positions.PositionClose(accountID=accountID,\n",
    "                                         instrument='USD_JPY',\n",
    "                                         data=data)\n",
    "            a = api.request(r)\n",
    "    if not short == 0:\n",
    "        if diff1 > diff2: #下がる傾向が弱くなっていたら\n",
    "            print('sell →None')\n",
    "            abs_short = short * -1\n",
    "            data = {\n",
    "                \"shortUnits\": str(abs_short)\n",
    "            }\n",
    "            r = positions.PositionClose(accountID=accountID,\n",
    "                             instrument='USD_JPY',\n",
    "                             data=data)\n",
    "            a = api.request(r)\n",
    "print(a['longOrderCreateTransaction']['pl']) "
   ]
  },
  {
   "cell_type": "code",
   "execution_count": 163,
   "metadata": {},
   "outputs": [
    {
     "name": "stdout",
     "output_type": "stream",
     "text": [
      "-0.0040\n"
     ]
    }
   ],
   "source": [
    "print(a['longOrderFillTransaction']['pl']) "
   ]
  },
  {
   "cell_type": "code",
   "execution_count": 3,
   "metadata": {},
   "outputs": [
    {
     "data": {
      "text/plain": [
       "{'instrument': 'USD_JPY',\n",
       " 'granularity': 'M5',\n",
       " 'candles': [{'complete': True,\n",
       "   'volume': 577,\n",
       "   'time': '2020-08-28T12:45:00.000000000Z',\n",
       "   'mid': {'o': '105.403', 'h': '105.415', 'l': '105.367', 'c': '105.392'}},\n",
       "  {'complete': True,\n",
       "   'volume': 790,\n",
       "   'time': '2020-08-28T12:50:00.000000000Z',\n",
       "   'mid': {'o': '105.394', 'h': '105.532', 'l': '105.392', 'c': '105.512'}},\n",
       "  {'complete': True,\n",
       "   'volume': 914,\n",
       "   'time': '2020-08-28T12:55:00.000000000Z',\n",
       "   'mid': {'o': '105.511', 'h': '105.567', 'l': '105.508', 'c': '105.540'}},\n",
       "  {'complete': True,\n",
       "   'volume': 1187,\n",
       "   'time': '2020-08-28T13:00:00.000000000Z',\n",
       "   'mid': {'o': '105.542', 'h': '105.737', 'l': '105.542', 'c': '105.666'}},\n",
       "  {'complete': False,\n",
       "   'volume': 140,\n",
       "   'time': '2020-08-28T13:05:00.000000000Z',\n",
       "   'mid': {'o': '105.665', 'h': '105.718', 'l': '105.662', 'c': '105.684'}}]}"
      ]
     },
     "execution_count": 3,
     "metadata": {},
     "output_type": "execute_result"
    }
   ],
   "source": [
    "import oandapyV20.endpoints.instruments as instruments\n",
    "params = {\n",
    "  \"count\": 5,\n",
    "  \"granularity\": \"M5\"\n",
    "}\n",
    "r = instruments.InstrumentsCandles(instrument=\"USD_JPY\", params=params)\n",
    "api.request(r)"
   ]
  },
  {
   "cell_type": "code",
   "execution_count": 16,
   "metadata": {},
   "outputs": [
    {
     "data": {
      "text/plain": [
       "{'orderCreateTransaction': {'type': 'MARKET_ORDER',\n",
       "  'instrument': 'USD_JPY',\n",
       "  'units': '10',\n",
       "  'timeInForce': 'FOK',\n",
       "  'positionFill': 'DEFAULT',\n",
       "  'reason': 'CLIENT_ORDER',\n",
       "  'id': '28',\n",
       "  'accountID': '101-009-15065836-001',\n",
       "  'userID': 15065836,\n",
       "  'batchID': '28',\n",
       "  'requestID': '42733902535841030',\n",
       "  'time': '2020-08-28T13:35:30.710776202Z'},\n",
       " 'orderFillTransaction': {'type': 'ORDER_FILL',\n",
       "  'orderID': '28',\n",
       "  'instrument': 'USD_JPY',\n",
       "  'units': '10',\n",
       "  'requestedUnits': '10',\n",
       "  'price': '105.381',\n",
       "  'pl': '0.0000',\n",
       "  'financing': '0.0000',\n",
       "  'commission': '0.0000',\n",
       "  'accountBalance': '3000043.4600',\n",
       "  'gainQuoteHomeConversionFactor': '1',\n",
       "  'lossQuoteHomeConversionFactor': '1',\n",
       "  'guaranteedExecutionFee': '0.0000',\n",
       "  'halfSpreadCost': '0.0200',\n",
       "  'fullVWAP': '105.381',\n",
       "  'reason': 'MARKET_ORDER',\n",
       "  'tradeOpened': {'price': '105.381',\n",
       "   'tradeID': '29',\n",
       "   'units': '10',\n",
       "   'guaranteedExecutionFee': '0.0000',\n",
       "   'halfSpreadCost': '0.0200',\n",
       "   'initialMarginRequired': '42.1516'},\n",
       "  'fullPrice': {'closeoutBid': '105.372',\n",
       "   'closeoutAsk': '105.386',\n",
       "   'timestamp': '2020-08-28T13:35:28.825736911Z',\n",
       "   'bids': [{'price': '105.377', 'liquidity': '250000'}],\n",
       "   'asks': [{'price': '105.381', 'liquidity': '250000'}]},\n",
       "  'id': '29',\n",
       "  'accountID': '101-009-15065836-001',\n",
       "  'userID': 15065836,\n",
       "  'batchID': '28',\n",
       "  'requestID': '42733902535841030',\n",
       "  'time': '2020-08-28T13:35:30.710776202Z'},\n",
       " 'relatedTransactionIDs': ['28', '29'],\n",
       " 'lastTransactionID': '29'}"
      ]
     },
     "execution_count": 16,
     "metadata": {},
     "output_type": "execute_result"
    }
   ],
   "source": [
    "import oandapyV20.endpoints.orders as orders\n",
    "\n",
    "data = {\n",
    "  \"order\": {\n",
    "    \"instrument\": \"USD_JPY\",\n",
    "    \"units\": \"+10\",\n",
    "    \"type\": \"MARKET\",\n",
    "    \"positionFill\": \"DEFAULT\"\n",
    "  }\n",
    "}\n",
    " \n",
    "r = orders.OrderCreate(accountID, data=data)\n",
    "api.request(r)"
   ]
  },
  {
   "cell_type": "code",
   "execution_count": 91,
   "metadata": {},
   "outputs": [
    {
     "data": {
      "text/plain": [
       "{'positions': [{'instrument': 'USD_JPY',\n",
       "   'long': {'units': '0',\n",
       "    'pl': '1.9470',\n",
       "    'resettablePL': '1.9470',\n",
       "    'financing': '0.0000',\n",
       "    'dividendAdjustment': '0.0000',\n",
       "    'guaranteedExecutionFees': '0.0000',\n",
       "    'unrealizedPL': '0.0000'},\n",
       "   'short': {'units': '-1',\n",
       "    'averagePrice': '105.276',\n",
       "    'pl': '0.0000',\n",
       "    'resettablePL': '0.0000',\n",
       "    'financing': '0.0000',\n",
       "    'dividendAdjustment': '0.0000',\n",
       "    'guaranteedExecutionFees': '0.0000',\n",
       "    'tradeIDs': ['37'],\n",
       "    'unrealizedPL': '0.0000'},\n",
       "   'pl': '1.9470',\n",
       "   'resettablePL': '1.9470',\n",
       "   'financing': '0.0000',\n",
       "   'commission': '0.0000',\n",
       "   'dividendAdjustment': '0.0000',\n",
       "   'guaranteedExecutionFees': '0.0000',\n",
       "   'unrealizedPL': '0.0000',\n",
       "   'marginUsed': '4.2110'}],\n",
       " 'lastTransactionID': '37'}"
      ]
     },
     "execution_count": 91,
     "metadata": {},
     "output_type": "execute_result"
    }
   ],
   "source": [
    "import oandapyV20.endpoints.positions as positions\n",
    "r = positions.OpenPositions(accountID=accountID)\n",
    "api.request(r)"
   ]
  },
  {
   "cell_type": "code",
   "execution_count": 157,
   "metadata": {},
   "outputs": [
    {
     "ename": "V20Error",
     "evalue": "{\"longOrderRejectTransaction\":{\"type\":\"MARKET_ORDER_REJECT\",\"rejectReason\":\"CLOSEOUT_POSITION_DOESNT_EXIST\",\"instrument\":\"USD_JPY\",\"timeInForce\":\"FOK\",\"positionFill\":\"REDUCE_ONLY\",\"reason\":\"POSITION_CLOSEOUT\",\"longPositionCloseout\":{\"instrument\":\"USD_JPY\",\"units\":\"1\"},\"id\":\"61\",\"accountID\":\"101-009-15065836-001\",\"userID\":15065836,\"batchID\":\"61\",\"requestID\":\"42733936197237185\",\"time\":\"2020-08-28T15:49:15.544127051Z\"},\"relatedTransactionIDs\":[\"61\"],\"lastTransactionID\":\"61\",\"errorMessage\":\"The Position requested to be closed out does not exist\",\"errorCode\":\"CLOSEOUT_POSITION_DOESNT_EXIST\"}",
     "output_type": "error",
     "traceback": [
      "\u001b[1;31m---------------------------------------------------------------------------\u001b[0m",
      "\u001b[1;31mV20Error\u001b[0m                                  Traceback (most recent call last)",
      "\u001b[1;32m<ipython-input-157-d4fb55efa9d1>\u001b[0m in \u001b[0;36m<module>\u001b[1;34m\u001b[0m\n\u001b[0;32m      6\u001b[0m                              \u001b[0minstrument\u001b[0m\u001b[1;33m=\u001b[0m\u001b[1;34m'USD_JPY'\u001b[0m\u001b[1;33m,\u001b[0m\u001b[1;33m\u001b[0m\u001b[1;33m\u001b[0m\u001b[0m\n\u001b[0;32m      7\u001b[0m                              data=data)\n\u001b[1;32m----> 8\u001b[1;33m \u001b[0ma\u001b[0m \u001b[1;33m=\u001b[0m \u001b[0mapi\u001b[0m\u001b[1;33m.\u001b[0m\u001b[0mrequest\u001b[0m\u001b[1;33m(\u001b[0m\u001b[0mr\u001b[0m\u001b[1;33m)\u001b[0m\u001b[1;33m\u001b[0m\u001b[1;33m\u001b[0m\u001b[0m\n\u001b[0m\u001b[0;32m      9\u001b[0m \u001b[0ma\u001b[0m\u001b[1;33m[\u001b[0m\u001b[1;34m'longOrderCreateTransaction'\u001b[0m\u001b[1;33m]\u001b[0m\u001b[1;33m[\u001b[0m\u001b[1;36m0\u001b[0m\u001b[1;33m]\u001b[0m\u001b[1;33m[\u001b[0m\u001b[1;34m'pl'\u001b[0m\u001b[1;33m]\u001b[0m\u001b[1;33m\u001b[0m\u001b[1;33m\u001b[0m\u001b[0m\n",
      "\u001b[1;32m~\\Anaconda3\\lib\\site-packages\\oandapyV20\\oandapyV20.py\u001b[0m in \u001b[0;36mrequest\u001b[1;34m(self, endpoint)\u001b[0m\n\u001b[0;32m    304\u001b[0m \u001b[1;33m\u001b[0m\u001b[0m\n\u001b[0;32m    305\u001b[0m             response = self.__request(method, url,\n\u001b[1;32m--> 306\u001b[1;33m                                       request_args, headers=headers)\n\u001b[0m\u001b[0;32m    307\u001b[0m             \u001b[0mcontent\u001b[0m \u001b[1;33m=\u001b[0m \u001b[0mresponse\u001b[0m\u001b[1;33m.\u001b[0m\u001b[0mcontent\u001b[0m\u001b[1;33m.\u001b[0m\u001b[0mdecode\u001b[0m\u001b[1;33m(\u001b[0m\u001b[1;34m'utf-8'\u001b[0m\u001b[1;33m)\u001b[0m\u001b[1;33m\u001b[0m\u001b[1;33m\u001b[0m\u001b[0m\n\u001b[0;32m    308\u001b[0m             \u001b[0mcontent\u001b[0m \u001b[1;33m=\u001b[0m \u001b[0mjson\u001b[0m\u001b[1;33m.\u001b[0m\u001b[0mloads\u001b[0m\u001b[1;33m(\u001b[0m\u001b[0mcontent\u001b[0m\u001b[1;33m)\u001b[0m\u001b[1;33m\u001b[0m\u001b[1;33m\u001b[0m\u001b[0m\n",
      "\u001b[1;32m~\\Anaconda3\\lib\\site-packages\\oandapyV20\\oandapyV20.py\u001b[0m in \u001b[0;36m__request\u001b[1;34m(self, method, url, request_args, headers, stream)\u001b[0m\n\u001b[0;32m    241\u001b[0m                          response.content.decode('utf-8'))\n\u001b[0;32m    242\u001b[0m             raise V20Error(response.status_code,\n\u001b[1;32m--> 243\u001b[1;33m                            response.content.decode('utf-8'))\n\u001b[0m\u001b[0;32m    244\u001b[0m         \u001b[1;32mreturn\u001b[0m \u001b[0mresponse\u001b[0m\u001b[1;33m\u001b[0m\u001b[1;33m\u001b[0m\u001b[0m\n\u001b[0;32m    245\u001b[0m \u001b[1;33m\u001b[0m\u001b[0m\n",
      "\u001b[1;31mV20Error\u001b[0m: {\"longOrderRejectTransaction\":{\"type\":\"MARKET_ORDER_REJECT\",\"rejectReason\":\"CLOSEOUT_POSITION_DOESNT_EXIST\",\"instrument\":\"USD_JPY\",\"timeInForce\":\"FOK\",\"positionFill\":\"REDUCE_ONLY\",\"reason\":\"POSITION_CLOSEOUT\",\"longPositionCloseout\":{\"instrument\":\"USD_JPY\",\"units\":\"1\"},\"id\":\"61\",\"accountID\":\"101-009-15065836-001\",\"userID\":15065836,\"batchID\":\"61\",\"requestID\":\"42733936197237185\",\"time\":\"2020-08-28T15:49:15.544127051Z\"},\"relatedTransactionIDs\":[\"61\"],\"lastTransactionID\":\"61\",\"errorMessage\":\"The Position requested to be closed out does not exist\",\"errorCode\":\"CLOSEOUT_POSITION_DOESNT_EXIST\"}"
     ]
    }
   ],
   "source": [
    "import oandapyV20.endpoints.positions as positions\n",
    "data = {\n",
    "  \"longUnits\": \"1\"\n",
    "}\n",
    "r = positions.PositionClose(accountID=accountID,\n",
    "                             instrument='USD_JPY',\n",
    "                             data=data)\n",
    "a = api.request(r)\n",
    "a['longOrderCreateTransaction'][0]['pl']"
   ]
  },
  {
   "cell_type": "code",
   "execution_count": 17,
   "metadata": {},
   "outputs": [
    {
     "data": {
      "text/plain": [
       "{'orders': [{'id': '15',\n",
       "   'createTime': '2020-08-23T00:13:03.264465211Z',\n",
       "   'type': 'LIMIT',\n",
       "   'instrument': 'EUR_USD',\n",
       "   'units': '-100',\n",
       "   'timeInForce': 'GTC',\n",
       "   'stopLossOnFill': {'price': '2.22000', 'timeInForce': 'GTC'},\n",
       "   'price': '2.20000',\n",
       "   'triggerCondition': 'DEFAULT',\n",
       "   'partialFill': 'DEFAULT_FILL',\n",
       "   'positionFill': 'DEFAULT',\n",
       "   'state': 'PENDING'},\n",
       "  {'id': '14',\n",
       "   'createTime': '2020-08-23T00:11:42.238595335Z',\n",
       "   'type': 'LIMIT',\n",
       "   'instrument': 'EUR_USD',\n",
       "   'units': '1',\n",
       "   'timeInForce': 'GTD',\n",
       "   'price': '1.17973',\n",
       "   'gtdTime': '2020-08-30T00:11:34.000000000Z',\n",
       "   'triggerCondition': 'DEFAULT',\n",
       "   'partialFill': 'DEFAULT_FILL',\n",
       "   'positionFill': 'DEFAULT',\n",
       "   'state': 'PENDING'},\n",
       "  {'id': '13',\n",
       "   'createTime': '2020-08-23T00:02:15.060712131Z',\n",
       "   'type': 'LIMIT',\n",
       "   'instrument': 'EUR_USD',\n",
       "   'units': '-100',\n",
       "   'timeInForce': 'GTC',\n",
       "   'stopLossOnFill': {'price': '1.22000', 'timeInForce': 'GTC'},\n",
       "   'price': '1.20000',\n",
       "   'triggerCondition': 'DEFAULT',\n",
       "   'partialFill': 'DEFAULT_FILL',\n",
       "   'positionFill': 'DEFAULT',\n",
       "   'state': 'PENDING'}],\n",
       " 'lastTransactionID': '15'}"
      ]
     },
     "execution_count": 17,
     "metadata": {},
     "output_type": "execute_result"
    }
   ],
   "source": [
    "import oandapyV20.endpoints.orders as orders\n",
    "r = orders.OrdersPending(accountID=accountID)\n",
    "api.request(r)"
   ]
  },
  {
   "cell_type": "code",
   "execution_count": 21,
   "metadata": {},
   "outputs": [
    {
     "data": {
      "text/plain": [
       "{'orderCancelTransaction': {'type': 'ORDER_CANCEL',\n",
       "  'orderID': '14',\n",
       "  'reason': 'CLIENT_REQUEST',\n",
       "  'id': '16',\n",
       "  'accountID': '101-009-15065836-001',\n",
       "  'userID': 15065836,\n",
       "  'batchID': '16',\n",
       "  'requestID': '42731891581939684',\n",
       "  'time': '2020-08-23T00:24:41.591259656Z'},\n",
       " 'relatedTransactionIDs': ['16'],\n",
       " 'lastTransactionID': '16'}"
      ]
     },
     "execution_count": 21,
     "metadata": {},
     "output_type": "execute_result"
    }
   ],
   "source": [
    "from oandapyV20.endpoints.orders import OrderDetails, OrderCancel\n",
    "ep = OrderCancel(accountID=accountID, orderID=14)\n",
    "api.request(ep)"
   ]
  },
  {
   "cell_type": "code",
   "execution_count": 22,
   "metadata": {},
   "outputs": [
    {
     "data": {
      "text/plain": [
       "{'orders': [{'id': '15',\n",
       "   'createTime': '2020-08-23T00:13:03.264465211Z',\n",
       "   'type': 'LIMIT',\n",
       "   'instrument': 'EUR_USD',\n",
       "   'units': '-100',\n",
       "   'timeInForce': 'GTC',\n",
       "   'stopLossOnFill': {'price': '2.22000', 'timeInForce': 'GTC'},\n",
       "   'price': '2.20000',\n",
       "   'triggerCondition': 'DEFAULT',\n",
       "   'partialFill': 'DEFAULT_FILL',\n",
       "   'positionFill': 'DEFAULT',\n",
       "   'state': 'PENDING'},\n",
       "  {'id': '13',\n",
       "   'createTime': '2020-08-23T00:02:15.060712131Z',\n",
       "   'type': 'LIMIT',\n",
       "   'instrument': 'EUR_USD',\n",
       "   'units': '-100',\n",
       "   'timeInForce': 'GTC',\n",
       "   'stopLossOnFill': {'price': '1.22000', 'timeInForce': 'GTC'},\n",
       "   'price': '1.20000',\n",
       "   'triggerCondition': 'DEFAULT',\n",
       "   'partialFill': 'DEFAULT_FILL',\n",
       "   'positionFill': 'DEFAULT',\n",
       "   'state': 'PENDING'}],\n",
       " 'lastTransactionID': '16'}"
      ]
     },
     "execution_count": 22,
     "metadata": {},
     "output_type": "execute_result"
    }
   ],
   "source": [
    "r = orders.OrdersPending(accountID=accountID)\n",
    "api.request(r)"
   ]
  },
  {
   "cell_type": "code",
   "execution_count": 24,
   "metadata": {},
   "outputs": [],
   "source": [
    "from oandapyV20 import API\n",
    "from oandapyV20.exceptions import V20Error\n",
    "from oandapyV20.endpoints.pricing import PricingStream\n",
    "import oandapyV20.endpoints.orders as orders\n",
    "import oandapyV20.endpoints.instruments as instruments\n",
    "\n",
    "import json\n",
    "import datetime\n",
    "import pandas as pd\n",
    "from dateutil.relativedelta import relativedelta"
   ]
  },
  {
   "cell_type": "code",
   "execution_count": 3,
   "metadata": {},
   "outputs": [],
   "source": [
    "year_months =[\n",
    "    [2016, 1], [2016, 2], [2016, 3], [2016, 4], [2016, 5], [2016, 6], [2016, 7], [2016, 8], [2016, 9], [2016, 10], [2016, 11], [2016, 12],\n",
    "    [2017, 1], [2017, 2], [2017, 3], [2017, 4], [2017, 5], [2017, 6], [2017, 7], [2017, 8], [2017, 9], [2017, 10], [2017, 11], [2017, 12],\n",
    "    [2018, 1], [2018, 2], [2018, 3], [2018, 4], [2018, 5], [2018, 6], [2018, 7], [2018, 8], [2018, 9], [2018, 10], [2018, 11], [2018, 12],\n",
    "    [2019, 1], [2019, 2], [2019, 3], [2019, 4], [2019, 5], [2019, 6], [2019, 7],\n",
    "]"
   ]
  },
  {
   "cell_type": "code",
   "execution_count": 4,
   "metadata": {},
   "outputs": [],
   "source": [
    "# Oandaからcandleデータを取得する。\n",
    "def getCandleDataFromOanda(instrument, api, date_from, date_to, granularity):\n",
    "    params = {\n",
    "        \"from\": date_from.isoformat(),\n",
    "        \"to\": date_to.isoformat(),\n",
    "        \"granularity\": granularity,\n",
    "    }\n",
    "    r = instruments.InstrumentsCandles(instrument=instrument, params=params)\n",
    "    return api.request(r)"
   ]
  },
  {
   "cell_type": "code",
   "execution_count": 5,
   "metadata": {},
   "outputs": [],
   "source": [
    "def oandaJsonToPythonList(JSONRes):\n",
    "    data = []\n",
    "    for res in JSONRes['candles']:\n",
    "        data.append( [\n",
    "            datetime.datetime.fromisoformat(res['time'][:19]),\n",
    "            res['volume'],\n",
    "            res['mid']['o'],\n",
    "            res['mid']['h'],\n",
    "            res['mid']['l'],\n",
    "            res['mid']['c'],\n",
    "            ])\n",
    "    return data"
   ]
  },
  {
   "cell_type": "code",
   "execution_count": 6,
   "metadata": {},
   "outputs": [],
   "source": [
    "all_data = []\n",
    "# year, monthでループ\n",
    "for year, month in year_months:\n",
    "    date_from = datetime.datetime(year, month, 1)\n",
    "    date_to = date_from + relativedelta(months=+1, day=1)\n",
    "\n",
    "    ret = getCandleDataFromOanda(\"USD_JPY\", api, date_from, date_to, \"M10\")\n",
    "    month_data = oandaJsonToPythonList(ret)\n",
    "\n",
    "    all_data.extend(month_data)"
   ]
  },
  {
   "cell_type": "code",
   "execution_count": 7,
   "metadata": {},
   "outputs": [],
   "source": [
    "# pandas DataFrameへ変換\n",
    "df = pd.DataFrame(all_data)\n",
    "df.columns = ['Datetime', 'Volume', 'Open', 'High', 'Low', 'Close']\n",
    "df = df.set_index('Datetime')"
   ]
  },
  {
   "cell_type": "code",
   "execution_count": 8,
   "metadata": {},
   "outputs": [
    {
     "data": {
      "text/plain": [
       "(133486, 5)"
      ]
     },
     "execution_count": 8,
     "metadata": {},
     "output_type": "execute_result"
    }
   ],
   "source": [
    "df.shape"
   ]
  },
  {
   "cell_type": "code",
   "execution_count": 9,
   "metadata": {},
   "outputs": [],
   "source": [
    "# CSVファイルへの出力\n",
    "df.to_csv('./USD_JPY_201601-201908_M10.csv')\n",
    "\n",
    "# CSVファイルの読み取り\n",
    "df = pd.read_csv('./USD_JPY_201601-201908_M10.csv', index_col='Datetime')"
   ]
  },
  {
   "cell_type": "code",
   "execution_count": 2,
   "metadata": {},
   "outputs": [],
   "source": [
    "import datetime\n",
    "import pandas as pd\n",
    "df = pd.read_csv('./USD_JPY_201601-201908_M10.csv', index_col='Datetime')\n",
    "df.index = pd.to_datetime(df.index)"
   ]
  },
  {
   "cell_type": "code",
   "execution_count": 60,
   "metadata": {},
   "outputs": [],
   "source": [
    "from backtesting import Strategy\n",
    "class myCustomStrategy(Strategy):\n",
    "    def init(self):\n",
    "        pass\n",
    "\n",
    "    def next(self): \n",
    "        self.buy() if self.data.Close[-1]> self.data.Open[-1] else self.sell()"
   ]
  },
  {
   "cell_type": "code",
   "execution_count": 4,
   "metadata": {},
   "outputs": [
    {
     "data": {
      "text/html": [
       "<div>\n",
       "<style scoped>\n",
       "    .dataframe tbody tr th:only-of-type {\n",
       "        vertical-align: middle;\n",
       "    }\n",
       "\n",
       "    .dataframe tbody tr th {\n",
       "        vertical-align: top;\n",
       "    }\n",
       "\n",
       "    .dataframe thead th {\n",
       "        text-align: right;\n",
       "    }\n",
       "</style>\n",
       "<table border=\"1\" class=\"dataframe\">\n",
       "  <thead>\n",
       "    <tr style=\"text-align: right;\">\n",
       "      <th></th>\n",
       "      <th>Volume</th>\n",
       "      <th>Open</th>\n",
       "      <th>High</th>\n",
       "      <th>Low</th>\n",
       "      <th>Close</th>\n",
       "    </tr>\n",
       "    <tr>\n",
       "      <th>Datetime</th>\n",
       "      <th></th>\n",
       "      <th></th>\n",
       "      <th></th>\n",
       "      <th></th>\n",
       "      <th></th>\n",
       "    </tr>\n",
       "  </thead>\n",
       "  <tbody>\n",
       "    <tr>\n",
       "      <th>2018-09-06 13:10:00</th>\n",
       "      <td>97</td>\n",
       "      <td>111.197</td>\n",
       "      <td>111.235</td>\n",
       "      <td>111.195</td>\n",
       "      <td>111.204</td>\n",
       "    </tr>\n",
       "    <tr>\n",
       "      <th>2018-09-06 13:20:00</th>\n",
       "      <td>61</td>\n",
       "      <td>111.206</td>\n",
       "      <td>111.207</td>\n",
       "      <td>111.188</td>\n",
       "      <td>111.192</td>\n",
       "    </tr>\n",
       "    <tr>\n",
       "      <th>2018-09-06 13:30:00</th>\n",
       "      <td>303</td>\n",
       "      <td>111.190</td>\n",
       "      <td>111.214</td>\n",
       "      <td>111.112</td>\n",
       "      <td>111.124</td>\n",
       "    </tr>\n",
       "    <tr>\n",
       "      <th>2018-09-06 13:40:00</th>\n",
       "      <td>235</td>\n",
       "      <td>111.128</td>\n",
       "      <td>111.191</td>\n",
       "      <td>111.122</td>\n",
       "      <td>111.166</td>\n",
       "    </tr>\n",
       "    <tr>\n",
       "      <th>2018-09-06 13:50:00</th>\n",
       "      <td>191</td>\n",
       "      <td>111.164</td>\n",
       "      <td>111.181</td>\n",
       "      <td>111.135</td>\n",
       "      <td>111.144</td>\n",
       "    </tr>\n",
       "    <tr>\n",
       "      <th>...</th>\n",
       "      <td>...</td>\n",
       "      <td>...</td>\n",
       "      <td>...</td>\n",
       "      <td>...</td>\n",
       "      <td>...</td>\n",
       "    </tr>\n",
       "    <tr>\n",
       "      <th>2019-08-01 03:10:00</th>\n",
       "      <td>62</td>\n",
       "      <td>109.152</td>\n",
       "      <td>109.187</td>\n",
       "      <td>109.152</td>\n",
       "      <td>109.182</td>\n",
       "    </tr>\n",
       "    <tr>\n",
       "      <th>2019-08-01 03:20:00</th>\n",
       "      <td>70</td>\n",
       "      <td>109.180</td>\n",
       "      <td>109.212</td>\n",
       "      <td>109.172</td>\n",
       "      <td>109.204</td>\n",
       "    </tr>\n",
       "    <tr>\n",
       "      <th>2019-08-01 03:30:00</th>\n",
       "      <td>52</td>\n",
       "      <td>109.207</td>\n",
       "      <td>109.210</td>\n",
       "      <td>109.185</td>\n",
       "      <td>109.195</td>\n",
       "    </tr>\n",
       "    <tr>\n",
       "      <th>2019-08-01 03:40:00</th>\n",
       "      <td>73</td>\n",
       "      <td>109.197</td>\n",
       "      <td>109.232</td>\n",
       "      <td>109.192</td>\n",
       "      <td>109.216</td>\n",
       "    </tr>\n",
       "    <tr>\n",
       "      <th>2019-08-01 03:50:00</th>\n",
       "      <td>71</td>\n",
       "      <td>109.218</td>\n",
       "      <td>109.252</td>\n",
       "      <td>109.218</td>\n",
       "      <td>109.239</td>\n",
       "    </tr>\n",
       "  </tbody>\n",
       "</table>\n",
       "<p>33486 rows × 5 columns</p>\n",
       "</div>"
      ],
      "text/plain": [
       "                     Volume     Open     High      Low    Close\n",
       "Datetime                                                       \n",
       "2018-09-06 13:10:00      97  111.197  111.235  111.195  111.204\n",
       "2018-09-06 13:20:00      61  111.206  111.207  111.188  111.192\n",
       "2018-09-06 13:30:00     303  111.190  111.214  111.112  111.124\n",
       "2018-09-06 13:40:00     235  111.128  111.191  111.122  111.166\n",
       "2018-09-06 13:50:00     191  111.164  111.181  111.135  111.144\n",
       "...                     ...      ...      ...      ...      ...\n",
       "2019-08-01 03:10:00      62  109.152  109.187  109.152  109.182\n",
       "2019-08-01 03:20:00      70  109.180  109.212  109.172  109.204\n",
       "2019-08-01 03:30:00      52  109.207  109.210  109.185  109.195\n",
       "2019-08-01 03:40:00      73  109.197  109.232  109.192  109.216\n",
       "2019-08-01 03:50:00      71  109.218  109.252  109.218  109.239\n",
       "\n",
       "[33486 rows x 5 columns]"
      ]
     },
     "execution_count": 4,
     "metadata": {},
     "output_type": "execute_result"
    }
   ],
   "source": [
    "df[100000:]"
   ]
  },
  {
   "cell_type": "code",
   "execution_count": 61,
   "metadata": {},
   "outputs": [
    {
     "name": "stdout",
     "output_type": "stream",
     "text": [
      "Start                     2019-03-22 11:50:00\n",
      "End                       2019-03-22 13:50:00\n",
      "Duration                      0 days 02:00:00\n",
      "Exposure Time [%]                     76.9231\n",
      "Equity Final [$]                      10068.5\n",
      "Equity Peak [$]                       10068.5\n",
      "Return [%]                           0.685006\n",
      "Buy & Hold Return [%]                0.259222\n",
      "Max. Drawdown [%]                   -0.376561\n",
      "Avg. Drawdown [%]                   -0.376561\n",
      "Max. Drawdown Duration        0 days 01:40:00\n",
      "Avg. Drawdown Duration        0 days 01:40:00\n",
      "# Trades                                    1\n",
      "Win Rate [%]                                0\n",
      "Best Trade [%]                     -0.0609146\n",
      "Worst Trade [%]                    -0.0609146\n",
      "Avg. Trade [%]                     -0.0609146\n",
      "Max. Trade Duration           0 days 01:30:00\n",
      "Avg. Trade Duration           0 days 01:30:00\n",
      "Profit Factor                               0\n",
      "Expectancy [%]                            NaN\n",
      "SQN                                       NaN\n",
      "Sharpe Ratio                              NaN\n",
      "Sortino Ratio                             NaN\n",
      "Calmar Ratio                        -0.161766\n",
      "_strategy                    myCustomStrategy\n",
      "_equity_curve                             ...\n",
      "_trades                      Size  EntryBa...\n",
      "dtype: object\n"
     ]
    }
   ],
   "source": [
    "from backtesting import Backtest\n",
    "# bt = Backtest(df[100000:130000], myCustomStrategy, cash=10000, commission=.00004)\n",
    "# bt.run()\n",
    "\n",
    "# バックテストを設定\n",
    "bt = Backtest( \n",
    "    df[120000:120013], # ヒストリカルデータ\n",
    "    myCustomStrategy, # ストラテジー\n",
    "    cash=10000, # 所持金\n",
    "    commission=0.0005, # 取引手数料（為替価格に対する倍率で指定、為替価格100円でcommission=0.0005なら0.05円）\n",
    "    margin=0.2, # 取引金額に対する所持金の割合、cash=10000でmargin=0.2なら50000分取引する\n",
    "    trade_on_close=True # True：現在の終値で取引する、False：次の時間の始値で取引する\n",
    ")\n",
    "\n",
    "output = bt.run() # バックテスト実行\n",
    "print(output) # 実行結果を表示\n"
   ]
  },
  {
   "cell_type": "code",
   "execution_count": 9,
   "metadata": {},
   "outputs": [
    {
     "name": "stdout",
     "output_type": "stream",
     "text": [
      "1.0300780200000554\n"
     ]
    }
   ],
   "source": [
    "print(output[6])"
   ]
  },
  {
   "cell_type": "code",
   "execution_count": 23,
   "metadata": {},
   "outputs": [
    {
     "data": {
      "text/html": [
       "\n",
       "\n",
       "\n",
       "\n",
       "\n",
       "\n",
       "  <div class=\"bk-root\" id=\"87f5b2cc-c44e-4103-991c-f2c61d693e5a\" data-root-id=\"2023\"></div>\n"
      ]
     },
     "metadata": {},
     "output_type": "display_data"
    },
    {
     "data": {
      "application/javascript": [
       "(function(root) {\n",
       "  function embed_document(root) {\n",
       "    \n",
       "  var docs_json = {\"24a75991-0619-41d1-9a2c-c34f9925bfea\":{\"roots\":{\"references\":[{\"attributes\":{\"children\":[{\"id\":\"2020\",\"type\":\"GridBox\"},{\"id\":\"2022\",\"type\":\"ToolbarBox\"}],\"sizing_mode\":\"stretch_width\"},\"id\":\"2023\",\"type\":\"Row\"},{\"attributes\":{\"text\":\"\"},\"id\":\"1754\",\"type\":\"Title\"},{\"attributes\":{},\"id\":\"1661\",\"type\":\"LinearScale\"},{\"attributes\":{\"callback\":null,\"formatters\":{\"@datetime\":\"datetime\"},\"mode\":\"vline\",\"point_policy\":\"follow_mouse\",\"renderers\":[{\"id\":\"1916\",\"type\":\"GlyphRenderer\"}],\"tooltips\":[[\"Date\",\"@datetime{%c}\"],[\"Volume\",\"@Volume{0.00 a}\"]]},\"id\":\"1918\",\"type\":\"HoverTool\"},{\"attributes\":{},\"id\":\"1900\",\"type\":\"ResetTool\"},{\"attributes\":{},\"id\":\"1759\",\"type\":\"Selection\"},{\"attributes\":{\"line_alpha\":0.1,\"line_color\":\"#1f77b4\",\"line_width\":2,\"x\":{\"field\":\"x\"},\"y\":{\"value\":1.0069882139892}},\"id\":\"1805\",\"type\":\"Line\"},{\"attributes\":{},\"id\":\"1756\",\"type\":\"BasicTickFormatter\"},{\"attributes\":{},\"id\":\"1901\",\"type\":\"CrosshairTool\"},{\"attributes\":{\"line_color\":{\"field\":\"returns_positive\",\"transform\":{\"id\":\"1694\",\"type\":\"CategoricalColorMapper\"}},\"line_dash\":[2,4],\"line_width\":{\"value\":8},\"xs\":{\"field\":\"position_lines_xs\"},\"ys\":{\"field\":\"position_lines_ys\"}},\"id\":\"1945\",\"type\":\"MultiLine\"},{\"attributes\":{},\"id\":\"1758\",\"type\":\"UnionRenderers\"},{\"attributes\":{\"data_source\":{\"id\":\"1803\",\"type\":\"ColumnDataSource\"},\"glyph\":{\"id\":\"1804\",\"type\":\"Line\"},\"hover_glyph\":null,\"muted_glyph\":null,\"nonselection_glyph\":{\"id\":\"1805\",\"type\":\"Line\"},\"selection_glyph\":null,\"view\":{\"id\":\"1807\",\"type\":\"CDSView\"}},\"id\":\"1806\",\"type\":\"GlyphRenderer\"},{\"attributes\":{},\"id\":\"1902\",\"type\":\"SaveTool\"},{\"attributes\":{\"bottom_units\":\"screen\",\"fill_alpha\":{\"value\":0.5},\"fill_color\":{\"value\":\"lightgrey\"},\"left_units\":\"screen\",\"level\":\"overlay\",\"line_alpha\":{\"value\":1.0},\"line_color\":{\"value\":\"black\"},\"line_dash\":[4,4],\"line_width\":{\"value\":2},\"render_mode\":\"css\",\"right_units\":\"screen\",\"top_units\":\"screen\"},\"id\":\"1762\",\"type\":\"BoxAnnotation\"},{\"attributes\":{},\"id\":\"1760\",\"type\":\"UnionRenderers\"},{\"attributes\":{\"source\":{\"id\":\"1803\",\"type\":\"ColumnDataSource\"}},\"id\":\"1807\",\"type\":\"CDSView\"},{\"attributes\":{},\"id\":\"1761\",\"type\":\"Selection\"},{\"attributes\":{},\"id\":\"1822\",\"type\":\"Selection\"},{\"attributes\":{\"border_line_color\":{\"value\":\"#333333\"},\"items\":[{\"id\":\"1764\",\"type\":\"LegendItem\"},{\"id\":\"1782\",\"type\":\"LegendItem\"},{\"id\":\"1802\",\"type\":\"LegendItem\"},{\"id\":\"1824\",\"type\":\"LegendItem\"}],\"label_text_font_size\":{\"value\":\"8pt\"},\"location\":\"top_left\",\"margin\":0,\"padding\":5,\"spacing\":0},\"id\":\"1763\",\"type\":\"Legend\"},{\"attributes\":{\"label\":{\"value\":\"Max Dd Dur. (05:40:00)\"},\"renderers\":[{\"id\":\"1806\",\"type\":\"GlyphRenderer\"}]},\"id\":\"1824\",\"type\":\"LegendItem\"},{\"attributes\":{\"bottom_units\":\"screen\",\"fill_alpha\":{\"value\":0.5},\"fill_color\":{\"value\":\"lightgrey\"},\"left_units\":\"screen\",\"level\":\"overlay\",\"line_alpha\":{\"value\":1.0},\"line_color\":{\"value\":\"black\"},\"line_dash\":[4,4],\"line_width\":{\"value\":2},\"render_mode\":\"css\",\"right_units\":\"screen\",\"top_units\":\"screen\"},\"id\":\"2017\",\"type\":\"BoxAnnotation\"},{\"attributes\":{\"callback\":null},\"id\":\"1827\",\"type\":\"DataRange1d\"},{\"attributes\":{\"below\":[{\"id\":\"1663\",\"type\":\"LinearAxis\"}],\"center\":[{\"id\":\"1667\",\"type\":\"Grid\"},{\"id\":\"1672\",\"type\":\"Grid\"},{\"id\":\"1959\",\"type\":\"Legend\"}],\"left\":[{\"id\":\"1668\",\"type\":\"LinearAxis\"}],\"min_border_bottom\":6,\"min_border_left\":0,\"min_border_right\":10,\"min_border_top\":3,\"outline_line_color\":{\"value\":\"#666666\"},\"plot_height\":400,\"plot_width\":null,\"renderers\":[{\"id\":\"1926\",\"type\":\"GlyphRenderer\"},{\"id\":\"1932\",\"type\":\"GlyphRenderer\"},{\"id\":\"1937\",\"type\":\"GlyphRenderer\"},{\"id\":\"1942\",\"type\":\"GlyphRenderer\"},{\"id\":\"1947\",\"type\":\"GlyphRenderer\"}],\"sizing_mode\":\"stretch_width\",\"title\":{\"id\":\"1950\",\"type\":\"Title\"},\"toolbar\":{\"id\":\"1681\",\"type\":\"Toolbar\"},\"toolbar_location\":null,\"x_range\":{\"id\":\"1654\",\"type\":\"Range1d\"},\"x_scale\":{\"id\":\"1659\",\"type\":\"LinearScale\"},\"y_range\":{\"id\":\"1657\",\"type\":\"DataRange1d\"},\"y_scale\":{\"id\":\"1661\",\"type\":\"LinearScale\"}},\"id\":\"1655\",\"subtype\":\"Figure\",\"type\":\"Plot\"},{\"attributes\":{},\"id\":\"1829\",\"type\":\"LinearScale\"},{\"attributes\":{\"factors\":[\"0\",\"1\"],\"palette\":[\"rgb(255, 220, 214)\",\"rgb(214, 255, 214)\"]},\"id\":\"1928\",\"type\":\"CategoricalColorMapper\"},{\"attributes\":{\"active_drag\":{\"id\":\"1843\",\"type\":\"PanTool\"},\"active_inspect\":\"auto\",\"active_multi\":null,\"active_scroll\":{\"id\":\"1844\",\"type\":\"WheelZoomTool\"},\"active_tap\":\"auto\",\"tools\":[{\"id\":\"1843\",\"type\":\"PanTool\"},{\"id\":\"1844\",\"type\":\"WheelZoomTool\"},{\"id\":\"1845\",\"type\":\"BoxZoomTool\"},{\"id\":\"1846\",\"type\":\"UndoTool\"},{\"id\":\"1847\",\"type\":\"RedoTool\"},{\"id\":\"1848\",\"type\":\"ResetTool\"},{\"id\":\"1849\",\"type\":\"CrosshairTool\"},{\"id\":\"1850\",\"type\":\"SaveTool\"},{\"id\":\"1871\",\"type\":\"HoverTool\"},{\"id\":\"1873\",\"type\":\"HoverTool\"}]},\"id\":\"1851\",\"type\":\"Toolbar\"},{\"attributes\":{},\"id\":\"1839\",\"type\":\"BasicTicker\"},{\"attributes\":{\"line_alpha\":{\"value\":0.1},\"line_color\":{\"value\":\"#1f77b4\"},\"x0\":{\"field\":\"index\"},\"x1\":{\"field\":\"index\"},\"y0\":{\"field\":\"High\"},\"y1\":{\"field\":\"Low\"}},\"id\":\"1936\",\"type\":\"Segment\"},{\"attributes\":{\"data_source\":{\"id\":\"1765\",\"type\":\"ColumnDataSource\"},\"glyph\":{\"id\":\"1766\",\"type\":\"Scatter\"},\"hover_glyph\":null,\"muted_glyph\":null,\"nonselection_glyph\":{\"id\":\"1767\",\"type\":\"Scatter\"},\"selection_glyph\":null,\"view\":{\"id\":\"1769\",\"type\":\"CDSView\"}},\"id\":\"1768\",\"type\":\"GlyphRenderer\"},{\"attributes\":{\"label\":{\"value\":\"Peak (101%)\"},\"renderers\":[{\"id\":\"1751\",\"type\":\"GlyphRenderer\"}]},\"id\":\"1764\",\"type\":\"LegendItem\"},{\"attributes\":{\"line_alpha\":{\"value\":0.1},\"line_color\":{\"value\":\"#1f77b4\"},\"line_dash\":[2,4],\"line_width\":{\"value\":8},\"xs\":{\"field\":\"position_lines_xs\"},\"ys\":{\"field\":\"position_lines_ys\"}},\"id\":\"1946\",\"type\":\"MultiLine\"},{\"attributes\":{\"fill_color\":{\"value\":\"blue\"},\"line_color\":{\"value\":\"blue\"},\"size\":{\"units\":\"screen\",\"value\":8},\"x\":{\"value\":99},\"y\":{\"value\":1.0055852739892}},\"id\":\"1766\",\"type\":\"Scatter\"},{\"attributes\":{},\"id\":\"1831\",\"type\":\"LinearScale\"},{\"attributes\":{\"callback\":null,\"data\":{\"Close\":{\"__ndarray__\":\"kxgEVg7NW0BANV66ScxbQA4tsp3vx1tAtMh2vp/KW0Dvp8ZLN8lbQNEi2/l+yltAqMZLN4nBW0BMN4lBYMVbQKwcWmQ7v1tAYOXQItu5W0C28/3UeLlbQKjGSzeJuVtALIcW2c63W0ARWDm0yLZbQKjGSzeJuVtAYOXQItu5W0Dy0k1iELhbQEw3iUFgtVtAiUFg5dCyW0Dy0k1iELBbQMqhRbbzrVtAtvP91HixW0BzaJHtfK9bQKwcWmQ7r1tAT42XbhKzW0DdJAaBlbNbQDMzMzMzs1tAiBbZzvezW0DdJAaBlbNbQMDKoUW2s1tALbKd76e2W0AIrBxaZLNbQEA1XrpJtFtALbKd76e2W0Do+6nx0rVbQLTIdr6fultAmpmZmZm5W0B46SYxCLxbQM/3U+Olu1tAfT81Xrq5W0AbL90kBrlbQBfZzvdTo1tA0SLb+X6qW0DKoUW2861bQMqhRbbzrVtAexSuR+GqW0DJdr6fGq9bQMqhRbbzrVtAIbByaJGtW0CuR+F6FK5bQNv5fmq8rFtAT42XbhKrW0AIrBxaZKtbQLTIdr6fqltAz/dT46WrW0CamZmZmalbQN0kBoGVq1tA7FG4HoWrW0CXbhKDwKpbQArXo3A9qltAmpmZmZmpW0B3vp8aL6VbQN9PjZduoltAdJMYBFaeW0BzaJHtfJ9bQNEi2/l+mltAzczMzMycW0Bcj8L1KJxbQK5H4XoUnltAsXJoke2cW0C4HoXrUaBbQA4tsp3vn1tADQIrhxahW0BWDi2ynadbQLx0kxgEpltA9ihcj8KlW0Cd76fGS6dbQGmR7Xw/pVtA3SQGgZWjW0CDwMqhRaZbQOj7qfHSpVtAv58aL92kW0BMN4lBYKVbQCUGgZVDo1tA3SQGgZWjW0CIFtnO96NbQIlBYOXQoltA2/l+arykW0CDwMqhRaZbQKFFtvP9pFtAw/UoXI+iW0DfT42XbqJbQDEIrBxapFtA2s73U+OlW0D4U+Olm6RbQGQ730+Np1tASgwCK4emW0CuR+F6FKZbQIXrUbgepVtAMQisHFqkW0A=\",\"dtype\":\"float64\",\"shape\":[100]},\"High\":{\"__ndarray__\":\"16NwPQrPW0Bpke18P81bQARWDi2yzVtATmIQWDnMW0DdJAaBlctbQOj7qfHSzVtA0SLb+X7KW0BMN4lBYMVbQHe+nxovxVtASOF6FK6/W0C0yHa+n7pbQEFg5dAiu1tA7nw/NV66W0Bcj8L1KLxbQEFg5dAiu1tAtMh2vp+6W0CJQWDl0LpbQGMQWDm0uFtA9ihcj8K1W0Bt5/up8bJbQHE9CtejsFtA/Knx0k2yW0DFILByaLFbQBxaZDvfr1tAT42XbhKzW0BqvHSTGLRbQBKDwMqhtVtAhetRuB61W0C/nxov3bRbQBSuR+F6tFtALbKd76e2W0BYObTIdrZbQEA1XrpJtFtAu0kMAiu3W0BI4XoUrrdbQCUGgZVDu1tABoGVQ4u8W0CxcmiR7bxbQEA1XrpJvFtAQDVeukm8W0Bt5/up8bpbQFK4HoXruVtA16NwPQqvW0BYObTIdq5bQI/C9Shcr1tA6Pup8dKtW0DJdr6fGq9bQFYOLbKdr1tA2s73U+OtW0CuR+F6FK5bQGZmZmZmrltAsXJoke2sW0DdJAaBlatbQM/3U+Olq1tAsp3vp8arW0DsUbgehatbQGq8dJMYrFtAeOkmMQisW0AIrBxaZKtbQHjpJjEIrFtAiUFg5dCqW0B9PzVeuqlbQC/dJAaBpVtA30+Nl26iW0BjEFg5tKBbQMZLN4lBoFtAd76fGi+dW0CS7Xw/NZ5bQK5H4XoUnltAZDvfT42fW0DhehSuR6FbQBgEVg4toltAfT81XrqhW0CNl24Sg6hbQKrx0k1iqFtAAyuHFtmmW0BFtvP91KhbQAAAAAAAqFtAaZHtfD+lW0DkpZvEIKhbQLgehetRqFtAEoPAyqGlW0BMN4lBYKVbQBKDwMqhpVtATmIQWDmkW0Db+X5qvKRbQIgW2c73o1tAhetRuB6lW0CDwMqhRaZbQKAaL90kpltAPQrXo3ClW0BANV66SaRbQNv5fmq8pFtA2s73U+OlW0BmZmZmZqZbQEW28/3UqFtALIcW2c6nW0Cd76fGS6dbQMl2vp8ap1tAaZHtfD+lW0A=\",\"dtype\":\"float64\",\"shape\":[100]},\"Low\":{\"__ndarray__\":\"FK5H4XrMW0B46SYxCMxbQLtJDAIrx1tALIcW2c7HW0BxPQrXo8hbQMUgsHJoyVtAVOOlm8TAW0BjEFg5tMBbQHSTGARWvltAfT81Xrq5W0CDwMqhRbZbQNrO91PjtVtAWDm0yHa2W0BmZmZmZrZbQIPAyqFFtltASOF6FK63W0AOLbKd77dbQIgW2c73s1tAl24Sg8CyW0AAAAAAALBbQBKDwMqhrVtA6Pup8dKtW0B0kxgEVq5bQFpkO99PrVtAWDm0yHauW0Cmm8QgsLJbQHsUrkfhsltAbef7qfGyW0AlBoGVQ7NbQN9PjZdusltAwMqhRbazW0BPjZduErNbQG4Sg8DKsVtApHA9CtezW0ASg8DKobVbQNrO91PjtVtAmpmZmZm5W0Coxks3iblbQAisHFpku1tAqMZLN4m5W0Av3SQGgbVbQMUgsHJooVtAqMZLN4mhW0C0yHa+n6pbQCPb+X5qrFtARIts5/upW0BfukkMAqtbQOj7qfHSrVtA6SYxCKysW0AGgZVDi6xbQNEi2/l+qltAtvP91HipW0BBYOXQIqtbQGDl0CLbqVtAJjEIrByqW0CamZmZmalbQH0/NV66qVtAexSuR+GqW0DRItv5fqpbQDZeukkMqltA/dR46SapW0CF61G4HqVbQESLbOf7oVtAEoPAyqGdW0Do+6nx0p1bQJzEILBymFtAqMZLN4mZW0BEi2zn+5lbQIxs5/upmVtA2/l+arycW0CWQ4ts55tbQGQ730+Nn1tAAyuHFtmeW0Dvp8ZLN6FbQM/3U+Olo1tAMQisHFqkW0BqvHSTGKRbQLKd76fGo1tANl66SQyiW0AX2c73U6NbQKFFtvP9pFtA3SQGgZWjW0AUrkfheqRbQE+Nl24So1tAiUFg5dCiW0D6fmq8dKNbQHE9CtejoFtAqvHSTWKgW0D4U+Olm6RbQBSuR+F6pFtACtejcD2iW0D8qfHSTaJbQPyp8dJNoltAwMqhRbajW0AUrkfheqRbQPhT46WbpFtAoBov3SSmW0CuR+F6FKZbQNv5fmq8pFtAMQisHFqkW0A=\",\"dtype\":\"float64\",\"shape\":[100]},\"Open\":{\"__ndarray__\":\"+FPjpZvMW0B3vp8aL81bQFyPwvUozFtA1HjpJjHIW0DRItv5fspbQMUgsHJoyVtA7nw/NV7KW0B9PzVeusFbQHe+nxovxVtAyXa+nxq/W0B9PzVeurlbQJqZmZmZuVtA001iEFi5W0BI4XoUrrdbQPP91HjptltAjGzn+6m5W0B9PzVeurlbQMZLN4lBuFtAL90kBoG1W0Bt5/up8bJbQMZLN4lBsFtA6Pup8dKtW0DhehSuR7FbQI/C9Shcr1tAyXa+nxqvW0AX2c73U7NbQPp+arx0s1tAT42XbhKzW0CkcD0K17NbQPp+arx0s1tApHA9CtezW0BYObTIdrZbQDMzMzMzs1tAXI/C9Si0W0BKDAIrh7ZbQLx0kxgEtltA0SLb+X66W0BuEoPAyrlbQFyPwvUovFtApHA9Cte7W0C28/3UeLlbQO+nxks3uVtAMzMzMzOjW0C0yHa+n6pbQOj7qfHSrVtA6Pup8dKtW0BfukkMAqtbQFYOLbKdr1tA6Pup8dKtW0A9CtejcK1bQOj7qfHSrVtAFK5H4XqsW0AlBoGVQ6tbQCUGgZVDq1tAl24Sg8CqW0D6fmq8dKtbQH0/NV66qVtAsp3vp8arW0AIrBxaZKtbQG3n+6nxqltA7nw/NV6qW0B9PzVeuqlbQKFFtvP9pFtA/Knx0k2iW0BYObTIdp5bQFYOLbKdn1tA/Knx0k2aW0CxcmiR7ZxbQHjpJjEInFtAku18PzWeW0CTGARWDp1bQJzEILByoFtAOrTIdr6fW0Dvp8ZLN6FbQHNoke18p1tA2s73U+OlW0ASg8DKoaVbQHNoke18p1tAhetRuB6lW0D6fmq8dKNbQKAaL90kpltAEoPAyqGlW0Db+X5qvKRbQIXrUbgepVtAT42XbhKjW0D6fmq8dKNbQKRwPQrXo1tAppvEILCiW0C/nxov3aRbQKAaL90kpltAd76fGi+lW0Cmm8QgsKJbQPyp8dJNoltAarx0kxikW0D2KFyPwqVbQM3MzMzMpFtAgZVDi2ynW0Atsp3vp6ZbQJLtfD81pltAaZHtfD+lW0A=\",\"dtype\":\"float64\",\"shape\":[100]},\"Volume\":[97,61,303,235,191,321,462,318,321,326,391,577,396,298,342,280,235,213,135,195,198,176,125,101,94,84,143,128,96,106,131,80,138,87,102,138,99,111,70,77,120,886,533,146,66,62,105,18,39,27,94,165,10,84,71,47,23,20,20,25,39,90,92,266,114,324,158,122,132,118,194,117,181,234,206,138,131,129,158,168,129,62,59,89,50,72,172,133,77,77,52,86,46,56,60,160,63,41,110,45],\"datetime\":{\"__ndarray__\":\"AABED/BadkIAAMCh8Fp2QgAAPDTxWnZCAAC4xvFadkIAADRZ8lp2QgAAsOvyWnZCAAAsfvNadkIAAKgQ9Fp2QgAAJKP0WnZCAACgNfVadkIAABzI9Vp2QgAAmFr2WnZCAAAU7fZadkIAAJB/91p2QgAADBL4WnZCAACIpPhadkIAAAQ3+Vp2QgAAgMn5WnZCAAD8W/padkIAAHju+lp2QgAA9ID7WnZCAABwE/xadkIAAOyl/Fp2QgAAaDj9WnZCAADkyv1adkIAAGBd/lp2QgAA3O/+WnZCAABYgv9adkIAANQUAFt2QgAAUKcAW3ZCAADMOQFbdkIAAEjMAVt2QgAAxF4CW3ZCAABA8QJbdkIAALyDA1t2QgAAOBYEW3ZCAAC0qARbdkIAADA7BVt2QgAArM0FW3ZCAAAoYAZbdkIAAKTyBlt2QgAAIIUHW3ZCAACcFwhbdkIAABiqCFt2QgAAlDwJW3ZCAAAQzwlbdkIAAIxhClt2QgAACPQKW3ZCAACEhgtbdkIAAAAZDFt2QgAAfKsMW3ZCAAD4PQ1bdkIAAHTQDVt2QgAA8GIOW3ZCAABs9Q5bdkIAAOiHD1t2QgAAZBoQW3ZCAADgrBBbdkIAAFw/EVt2QgAA2NERW3ZCAABUZBJbdkIAAND2Elt2QgAATIkTW3ZCAADIGxRbdkIAAESuFFt2QgAAwEAVW3ZCAAA80xVbdkIAALhlFlt2QgAANPgWW3ZCAACwihdbdkIAACwdGFt2QgAAqK8YW3ZCAAAkQhlbdkIAAKDUGVt2QgAAHGcaW3ZCAACY+RpbdkIAABSMG1t2QgAAkB4cW3ZCAAAMsRxbdkIAAIhDHVt2QgAABNYdW3ZCAACAaB5bdkIAAPz6Hlt2QgAAeI0fW3ZCAAD0HyBbdkIAAHCyIFt2QgAA7EQhW3ZCAABo1yFbdkIAAORpIlt2QgAAYPwiW3ZCAADcjiNbdkIAAFghJFt2QgAA1LMkW3ZCAABQRiVbdkIAAMzYJVt2QgAASGsmW3ZCAADE/SZbdkIAAECQJ1t2QgAAvCIoW3ZCAAA4tShbdkI=\",\"dtype\":\"float64\",\"shape\":[100]},\"equity\":{\"__ndarray__\":\"AAAAAAAA8D8AAAAAAADwP8z9YzxEAvA/JveHULgA8D8DE7KzhwHwPzooACvLAPA/upPd5/IF8D8r2esDvAPwPyVy2v1GB/A/B6TxOGIK8D/oN5sHmwrwPxEm84yRCvA/yQetfJEL8D9AJS4nKQzwPxEm84yRCvA/3MyqJ2IK8D9rwAySawvwP+Ofgx76DPA/9zMmtHUO8D9UzbQuDhDwP+GVSARIEfA/n51B7zwP8D+740DDYxDwP2yBF86JEPA/DUSEK08O8D+rCNcVAw7wPzT1GCY8DvA/IRyVBcoN8D+rCNcVAw7wP9O5axDwDfA/X6THkzoM8D/v/vedHw7wPwTXCHiaDfA/X6THkzoM8D/eJAE3tgzwPycYyevsCfA/644jF4UK8D/atCywGwnwP2OhbsBUCfA/E0C4EXIK8D+5cYav2grwP1DoW9p5F/A/NgiXUU4T8D90rlydSxHwP3SuXJ1LEfA/WsUeIRUT8D/d5fMLoBDwP3SuXJ1LEfA/UPHUzYQR8D8qmDSNOBHwPy+C2bYAEvA/7KPiiPgS8D8zbH7gyBLwP+3xbkE7E/A/oD8uwKIS8D85pK/C0xPwP8VKQkisEvA/6VVW0LUS8D+k20YxKBPwP8o053F0E/A/OaSvwtMT8D8lpRZwZRbwP1OEdEv/F/A/UqyWhWIa8D/B4IqTthnwPzKoaKyfHPA/ERFRyEcb8D+3ZclOpxvwP8dnYLuIGvA/VzNsrTQb8D+EP7tkOhnwP7TYabVzGfA/Iw1ew8cY8D/y4MVn+RTwP5C08jfoFfA/BXC8bQ4W8D9GCwIrKRXwP/DmT9laFvA/aynvNlMX8D8a+SgCwhXwPygBSuAEFvA/IID+KZQW8D81CWu+RxbwP71TK/qCF/A/aynvNlMX8D86kEDmGRfwP8tbTNjFF/A/213jRKcW8D8a+SgCwhXwP2aiGQ+BFvA/QBcWDuwX8D/79Poo/xfwPwv3kZXgFvA/SpLXUvsV8D+WO8hfuhbwP9BPOPUCFfA/pT1fzJsV8D+zRYCq3hXwP6vENPRtFvA/C/eRleAW8D8=\",\"dtype\":\"float64\",\"shape\":[100]},\"inc\":[\"1\",\"0\",\"0\",\"1\",\"0\",\"1\",\"0\",\"1\",\"0\",\"0\",\"0\",\"0\",\"0\",\"0\",\"1\",\"1\",\"0\",\"0\",\"0\",\"0\",\"0\",\"1\",\"0\",\"0\",\"1\",\"1\",\"0\",\"1\",\"0\",\"1\",\"1\",\"0\",\"1\",\"1\",\"0\",\"1\",\"0\",\"1\",\"0\",\"0\",\"0\",\"0\",\"1\",\"1\",\"1\",\"0\",\"1\",\"0\",\"0\",\"1\",\"0\",\"0\",\"1\",\"0\",\"1\",\"0\",\"1\",\"0\",\"0\",\"0\",\"0\",\"0\",\"0\",\"0\",\"1\",\"0\",\"1\",\"0\",\"1\",\"0\",\"1\",\"0\",\"1\",\"1\",\"0\",\"0\",\"1\",\"0\",\"0\",\"1\",\"0\",\"0\",\"1\",\"0\",\"1\",\"1\",\"0\",\"1\",\"1\",\"0\",\"0\",\"0\",\"1\",\"1\",\"0\",\"1\",\"0\",\"0\",\"0\",\"0\"],\"index\":[0,1,2,3,4,5,6,7,8,9,10,11,12,13,14,15,16,17,18,19,20,21,22,23,24,25,26,27,28,29,30,31,32,33,34,35,36,37,38,39,40,41,42,43,44,45,46,47,48,49,50,51,52,53,54,55,56,57,58,59,60,61,62,63,64,65,66,67,68,69,70,71,72,73,74,75,76,77,78,79,80,81,82,83,84,85,86,87,88,89,90,91,92,93,94,95,96,97,98,99],\"ohlc_high\":{\"__ndarray__\":\"16NwPQrPW0Bpke18P81bQARWDi2yzVtATmIQWDnMW0DdJAaBlctbQOj7qfHSzVtA0SLb+X7KW0BMN4lBYMVbQHe+nxovxVtASOF6FK6/W0C0yHa+n7pbQEFg5dAiu1tA7nw/NV66W0Bcj8L1KLxbQEFg5dAiu1tAtMh2vp+6W0CJQWDl0LpbQGMQWDm0uFtA9ihcj8K1W0Bt5/up8bJbQHE9CtejsFtA/Knx0k2yW0DFILByaLFbQBxaZDvfr1tAT42XbhKzW0BqvHSTGLRbQBKDwMqhtVtAhetRuB61W0C/nxov3bRbQBSuR+F6tFtALbKd76e2W0BYObTIdrZbQEA1XrpJtFtAu0kMAiu3W0BI4XoUrrdbQCUGgZVDu1tABoGVQ4u8W0CxcmiR7bxbQEA1XrpJvFtAQDVeukm8W0Bt5/up8bpbQFK4HoXruVtA16NwPQqvW0BYObTIdq5bQI/C9Shcr1tA6Pup8dKtW0DJdr6fGq9bQFYOLbKdr1tA2s73U+OtW0CuR+F6FK5bQGZmZmZmrltAsXJoke2sW0DdJAaBlatbQM/3U+Olq1tAsp3vp8arW0DsUbgehatbQGq8dJMYrFtAeOkmMQisW0AIrBxaZKtbQHjpJjEIrFtAiUFg5dCqW0B9PzVeuqlbQC/dJAaBpVtA30+Nl26iW0BjEFg5tKBbQMZLN4lBoFtAd76fGi+dW0CS7Xw/NZ5bQK5H4XoUnltAZDvfT42fW0DhehSuR6FbQBgEVg4toltAfT81XrqhW0CNl24Sg6hbQKrx0k1iqFtAAyuHFtmmW0BFtvP91KhbQAAAAAAAqFtAaZHtfD+lW0DkpZvEIKhbQLgehetRqFtAEoPAyqGlW0BMN4lBYKVbQBKDwMqhpVtATmIQWDmkW0Db+X5qvKRbQIgW2c73o1tAhetRuB6lW0CDwMqhRaZbQKAaL90kpltAPQrXo3ClW0BANV66SaRbQNv5fmq8pFtA2s73U+OlW0BmZmZmZqZbQEW28/3UqFtALIcW2c6nW0Cd76fGS6dbQMl2vp8ap1tAaZHtfD+lW0A=\",\"dtype\":\"float64\",\"shape\":[100]},\"ohlc_low\":{\"__ndarray__\":\"FK5H4XrMW0B46SYxCMxbQLtJDAIrx1tALIcW2c7HW0BxPQrXo8hbQMUgsHJoyVtAVOOlm8TAW0BjEFg5tMBbQHSTGARWvltAfT81Xrq5W0CDwMqhRbZbQNrO91PjtVtAWDm0yHa2W0BmZmZmZrZbQIPAyqFFtltASOF6FK63W0AOLbKd77dbQIgW2c73s1tAl24Sg8CyW0AAAAAAALBbQBKDwMqhrVtA6Pup8dKtW0B0kxgEVq5bQFpkO99PrVtAWDm0yHauW0Cmm8QgsLJbQHsUrkfhsltAbef7qfGyW0AlBoGVQ7NbQN9PjZdusltAwMqhRbazW0BPjZduErNbQG4Sg8DKsVtApHA9CtezW0ASg8DKobVbQNrO91PjtVtAmpmZmZm5W0Coxks3iblbQAisHFpku1tAqMZLN4m5W0Av3SQGgbVbQMUgsHJooVtAqMZLN4mhW0C0yHa+n6pbQCPb+X5qrFtARIts5/upW0BfukkMAqtbQOj7qfHSrVtA6SYxCKysW0AGgZVDi6xbQNEi2/l+qltAtvP91HipW0BBYOXQIqtbQGDl0CLbqVtAJjEIrByqW0CamZmZmalbQH0/NV66qVtAexSuR+GqW0DRItv5fqpbQDZeukkMqltA/dR46SapW0CF61G4HqVbQESLbOf7oVtAEoPAyqGdW0Do+6nx0p1bQJzEILBymFtAqMZLN4mZW0BEi2zn+5lbQIxs5/upmVtA2/l+arycW0CWQ4ts55tbQGQ730+Nn1tAAyuHFtmeW0Dvp8ZLN6FbQM/3U+Olo1tAMQisHFqkW0BqvHSTGKRbQLKd76fGo1tANl66SQyiW0AX2c73U6NbQKFFtvP9pFtA3SQGgZWjW0AUrkfheqRbQE+Nl24So1tAiUFg5dCiW0D6fmq8dKNbQHE9CtejoFtAqvHSTWKgW0D4U+Olm6RbQBSuR+F6pFtACtejcD2iW0D8qfHSTaJbQPyp8dJNoltAwMqhRbajW0AUrkfheqRbQPhT46WbpFtAoBov3SSmW0CuR+F6FKZbQNv5fmq8pFtAMQisHFqkW0A=\",\"dtype\":\"float64\",\"shape\":[100]}},\"selected\":{\"id\":\"1761\",\"type\":\"Selection\"},\"selection_policy\":{\"id\":\"1760\",\"type\":\"UnionRenderers\"}},\"id\":\"1690\",\"type\":\"ColumnDataSource\"},{\"attributes\":{\"axis_label\":\"Profit / Loss\",\"formatter\":{\"id\":\"1875\",\"type\":\"NumeralTickFormatter\"},\"minor_tick_line_color\":{\"value\":null},\"ticker\":{\"id\":\"1839\",\"type\":\"BasicTicker\"}},\"id\":\"1838\",\"type\":\"LinearAxis\"},{\"attributes\":{\"ticker\":{\"id\":\"1707\",\"type\":\"BasicTicker\"}},\"id\":\"1710\",\"type\":\"Grid\"},{\"attributes\":{\"formatter\":{\"id\":\"1990\",\"type\":\"BasicTickFormatter\"},\"ticker\":{\"id\":\"1834\",\"type\":\"BasicTicker\"},\"visible\":false},\"id\":\"1833\",\"type\":\"LinearAxis\"},{\"attributes\":{\"fill_alpha\":{\"value\":0.1},\"fill_color\":{\"value\":\"#1f77b4\"},\"line_alpha\":{\"value\":0.1},\"line_color\":{\"value\":\"#1f77b4\"},\"size\":{\"units\":\"screen\",\"value\":8},\"x\":{\"value\":99},\"y\":{\"value\":1.0055852739892}},\"id\":\"1767\",\"type\":\"Scatter\"},{\"attributes\":{\"callback\":null,\"data\":{\"equity_dd\":{\"__ndarray__\":\"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\",\"dtype\":\"float64\",\"shape\":[200]},\"index\":[0,1,2,3,4,5,6,7,8,9,10,11,12,13,14,15,16,17,18,19,20,21,22,23,24,25,26,27,28,29,30,31,32,33,34,35,36,37,38,39,40,41,42,43,44,45,46,47,48,49,50,51,52,53,54,55,56,57,58,59,60,61,62,63,64,65,66,67,68,69,70,71,72,73,74,75,76,77,78,79,80,81,82,83,84,85,86,87,88,89,90,91,92,93,94,95,96,97,98,99,99,98,97,96,95,94,93,92,91,90,89,88,87,86,85,84,83,82,81,80,79,78,77,76,75,74,73,72,71,70,69,68,67,66,65,64,63,62,61,60,59,58,57,56,55,54,53,52,51,50,49,48,47,46,45,44,43,42,41,40,39,38,37,36,35,34,33,32,31,30,29,28,27,26,25,24,23,22,21,20,19,18,17,16,15,14,13,12,11,10,9,8,7,6,5,4,3,2,1,0]},\"selected\":{\"id\":\"1759\",\"type\":\"Selection\"},\"selection_policy\":{\"id\":\"1758\",\"type\":\"UnionRenderers\"}},\"id\":\"1733\",\"type\":\"ColumnDataSource\"},{\"attributes\":{},\"id\":\"1834\",\"type\":\"BasicTicker\"},{\"attributes\":{},\"id\":\"1779\",\"type\":\"UnionRenderers\"},{\"attributes\":{\"axis_label\":\"Equity\",\"formatter\":{\"id\":\"1746\",\"type\":\"NumeralTickFormatter\"},\"minor_tick_line_color\":{\"value\":null},\"ticker\":{\"id\":\"1712\",\"type\":\"BasicTicker\"}},\"id\":\"1711\",\"type\":\"LinearAxis\"},{\"attributes\":{},\"id\":\"1659\",\"type\":\"LinearScale\"},{\"attributes\":{},\"id\":\"1704\",\"type\":\"LinearScale\"},{\"attributes\":{\"ticker\":{\"id\":\"1834\",\"type\":\"BasicTicker\"}},\"id\":\"1837\",\"type\":\"Grid\"},{\"attributes\":{\"dimension\":1,\"ticker\":{\"id\":\"1839\",\"type\":\"BasicTicker\"}},\"id\":\"1842\",\"type\":\"Grid\"},{\"attributes\":{\"fill_color\":{\"value\":\"red\"},\"line_color\":{\"value\":\"red\"},\"size\":{\"units\":\"screen\",\"value\":8},\"x\":{\"value\":37},\"y\":{\"value\":1.0022236711332}},\"id\":\"1784\",\"type\":\"Scatter\"},{\"attributes\":{\"formatter\":{\"id\":\"1756\",\"type\":\"BasicTickFormatter\"},\"ticker\":{\"id\":\"1707\",\"type\":\"BasicTicker\"},\"visible\":false},\"id\":\"1706\",\"type\":\"LinearAxis\"},{\"attributes\":{\"source\":{\"id\":\"1765\",\"type\":\"ColumnDataSource\"}},\"id\":\"1769\",\"type\":\"CDSView\"},{\"attributes\":{\"label\":{\"value\":\"Final (101%)\"},\"renderers\":[{\"id\":\"1768\",\"type\":\"GlyphRenderer\"}]},\"id\":\"1782\",\"type\":\"LegendItem\"},{\"attributes\":{\"callback\":null,\"data\":{},\"selected\":{\"id\":\"1822\",\"type\":\"Selection\"},\"selection_policy\":{\"id\":\"1821\",\"type\":\"UnionRenderers\"}},\"id\":\"1783\",\"type\":\"ColumnDataSource\"},{\"attributes\":{\"fill_alpha\":{\"value\":0.1},\"fill_color\":{\"value\":\"#1f77b4\"},\"line_alpha\":{\"value\":0.1},\"line_color\":{\"value\":\"#1f77b4\"},\"size\":{\"units\":\"screen\",\"value\":8},\"x\":{\"value\":37},\"y\":{\"value\":1.0022236711332}},\"id\":\"1785\",\"type\":\"Scatter\"},{\"attributes\":{\"data_source\":{\"id\":\"1783\",\"type\":\"ColumnDataSource\"},\"glyph\":{\"id\":\"1784\",\"type\":\"Scatter\"},\"hover_glyph\":null,\"muted_glyph\":null,\"nonselection_glyph\":{\"id\":\"1785\",\"type\":\"Scatter\"},\"selection_glyph\":null,\"view\":{\"id\":\"1787\",\"type\":\"CDSView\"}},\"id\":\"1786\",\"type\":\"GlyphRenderer\"},{\"attributes\":{\"active_drag\":{\"id\":\"1895\",\"type\":\"PanTool\"},\"active_inspect\":\"auto\",\"active_multi\":null,\"active_scroll\":{\"id\":\"1896\",\"type\":\"WheelZoomTool\"},\"active_tap\":\"auto\",\"tools\":[{\"id\":\"1895\",\"type\":\"PanTool\"},{\"id\":\"1896\",\"type\":\"WheelZoomTool\"},{\"id\":\"1897\",\"type\":\"BoxZoomTool\"},{\"id\":\"1898\",\"type\":\"UndoTool\"},{\"id\":\"1899\",\"type\":\"RedoTool\"},{\"id\":\"1900\",\"type\":\"ResetTool\"},{\"id\":\"1901\",\"type\":\"CrosshairTool\"},{\"id\":\"1902\",\"type\":\"SaveTool\"},{\"id\":\"1918\",\"type\":\"HoverTool\"}]},\"id\":\"1903\",\"type\":\"Toolbar\"},{\"attributes\":{\"source\":{\"id\":\"1922\",\"type\":\"ColumnDataSource\"}},\"id\":\"1927\",\"type\":\"CDSView\"},{\"attributes\":{\"fill_color\":{\"field\":\"returns_positive\",\"transform\":{\"id\":\"1693\",\"type\":\"CategoricalColorMapper\"}},\"marker\":{\"value\":\"triangle\"},\"size\":{\"field\":\"marker_size\",\"units\":\"screen\"},\"x\":{\"field\":\"index\"},\"y\":{\"field\":\"returns_long\"}},\"id\":\"1862\",\"type\":\"Scatter\"},{\"attributes\":{\"toolbar\":{\"id\":\"2021\",\"type\":\"ProxyToolbar\"}},\"id\":\"2022\",\"type\":\"ToolbarBox\"},{\"attributes\":{\"line_color\":{\"value\":\"#666666\"},\"line_dash\":[6],\"location\":0},\"id\":\"1860\",\"type\":\"Span\"},{\"attributes\":{},\"id\":\"1712\",\"type\":\"BasicTicker\"},{\"attributes\":{\"logo\":null,\"tools\":[{\"id\":\"1716\",\"type\":\"PanTool\"},{\"id\":\"1717\",\"type\":\"WheelZoomTool\"},{\"id\":\"1718\",\"type\":\"BoxZoomTool\"},{\"id\":\"1719\",\"type\":\"UndoTool\"},{\"id\":\"1720\",\"type\":\"RedoTool\"},{\"id\":\"1721\",\"type\":\"ResetTool\"},{\"id\":\"1722\",\"type\":\"CrosshairTool\"},{\"id\":\"1723\",\"type\":\"SaveTool\"},{\"id\":\"1744\",\"type\":\"HoverTool\"},{\"id\":\"1843\",\"type\":\"PanTool\"},{\"id\":\"1844\",\"type\":\"WheelZoomTool\"},{\"id\":\"1845\",\"type\":\"BoxZoomTool\"},{\"id\":\"1846\",\"type\":\"UndoTool\"},{\"id\":\"1847\",\"type\":\"RedoTool\"},{\"id\":\"1848\",\"type\":\"ResetTool\"},{\"id\":\"1849\",\"type\":\"CrosshairTool\"},{\"id\":\"1850\",\"type\":\"SaveTool\"},{\"id\":\"1871\",\"type\":\"HoverTool\"},{\"id\":\"1873\",\"type\":\"HoverTool\"},{\"id\":\"1673\",\"type\":\"PanTool\"},{\"id\":\"1674\",\"type\":\"WheelZoomTool\"},{\"id\":\"1675\",\"type\":\"BoxZoomTool\"},{\"id\":\"1676\",\"type\":\"UndoTool\"},{\"id\":\"1677\",\"type\":\"RedoTool\"},{\"id\":\"1678\",\"type\":\"ResetTool\"},{\"id\":\"1679\",\"type\":\"CrosshairTool\"},{\"id\":\"1680\",\"type\":\"SaveTool\"},{\"id\":\"1961\",\"type\":\"HoverTool\"},{\"id\":\"1895\",\"type\":\"PanTool\"},{\"id\":\"1896\",\"type\":\"WheelZoomTool\"},{\"id\":\"1897\",\"type\":\"BoxZoomTool\"},{\"id\":\"1898\",\"type\":\"UndoTool\"},{\"id\":\"1899\",\"type\":\"RedoTool\"},{\"id\":\"1900\",\"type\":\"ResetTool\"},{\"id\":\"1901\",\"type\":\"CrosshairTool\"},{\"id\":\"1902\",\"type\":\"SaveTool\"},{\"id\":\"1918\",\"type\":\"HoverTool\"}]},\"id\":\"2021\",\"type\":\"ProxyToolbar\"},{\"attributes\":{\"data_source\":{\"id\":\"1691\",\"type\":\"ColumnDataSource\"},\"glyph\":{\"id\":\"1862\",\"type\":\"Scatter\"},\"hover_glyph\":null,\"muted_glyph\":null,\"nonselection_glyph\":{\"id\":\"1863\",\"type\":\"Scatter\"},\"selection_glyph\":null,\"view\":{\"id\":\"1865\",\"type\":\"CDSView\"}},\"id\":\"1864\",\"type\":\"GlyphRenderer\"},{\"attributes\":{\"dimensions\":\"width\"},\"id\":\"1843\",\"type\":\"PanTool\"},{\"attributes\":{\"dimensions\":\"width\",\"maintain_focus\":false},\"id\":\"1844\",\"type\":\"WheelZoomTool\"},{\"attributes\":{\"bounds\":[-4.95,103.95],\"callback\":null,\"end\":99,\"js_property_callbacks\":{\"change:end\":[{\"id\":\"1963\",\"type\":\"CustomJS\"}]}},\"id\":\"1654\",\"type\":\"Range1d\"},{\"attributes\":{\"overlay\":{\"id\":\"1994\",\"type\":\"BoxAnnotation\"}},\"id\":\"1845\",\"type\":\"BoxZoomTool\"},{\"attributes\":{\"label\":{\"value\":\"Max Drawdown (-0.2%)\"},\"renderers\":[{\"id\":\"1786\",\"type\":\"GlyphRenderer\"}]},\"id\":\"1802\",\"type\":\"LegendItem\"},{\"attributes\":{},\"id\":\"1846\",\"type\":\"UndoTool\"},{\"attributes\":{\"source\":{\"id\":\"1783\",\"type\":\"ColumnDataSource\"}},\"id\":\"1787\",\"type\":\"CDSView\"},{\"attributes\":{},\"id\":\"1848\",\"type\":\"ResetTool\"},{\"attributes\":{},\"id\":\"1800\",\"type\":\"Selection\"},{\"attributes\":{},\"id\":\"1799\",\"type\":\"UnionRenderers\"},{\"attributes\":{},\"id\":\"1847\",\"type\":\"RedoTool\"},{\"attributes\":{\"below\":[{\"id\":\"1833\",\"type\":\"LinearAxis\"}],\"center\":[{\"id\":\"1837\",\"type\":\"Grid\"},{\"id\":\"1842\",\"type\":\"Grid\"},{\"id\":\"1860\",\"type\":\"Span\"}],\"left\":[{\"id\":\"1838\",\"type\":\"LinearAxis\"}],\"min_border_bottom\":6,\"min_border_left\":0,\"min_border_right\":10,\"min_border_top\":3,\"outline_line_color\":{\"value\":\"#666666\"},\"plot_height\":90,\"plot_width\":null,\"renderers\":[{\"id\":\"1864\",\"type\":\"GlyphRenderer\"},{\"id\":\"1869\",\"type\":\"GlyphRenderer\"}],\"sizing_mode\":\"stretch_width\",\"title\":{\"id\":\"1988\",\"type\":\"Title\"},\"toolbar\":{\"id\":\"1851\",\"type\":\"Toolbar\"},\"toolbar_location\":null,\"x_range\":{\"id\":\"1654\",\"type\":\"Range1d\"},\"x_scale\":{\"id\":\"1829\",\"type\":\"LinearScale\"},\"y_range\":{\"id\":\"1827\",\"type\":\"DataRange1d\"},\"y_scale\":{\"id\":\"1831\",\"type\":\"LinearScale\"}},\"id\":\"1825\",\"subtype\":\"Figure\",\"type\":\"Plot\"},{\"attributes\":{\"dimension\":1,\"ticker\":{\"id\":\"1712\",\"type\":\"BasicTicker\"}},\"id\":\"1715\",\"type\":\"Grid\"},{\"attributes\":{\"line_color\":{\"value\":\"#bbbbbb\"},\"x0\":{\"field\":\"index\"},\"x1\":{\"field\":\"index\"},\"y0\":{\"field\":\"High\"},\"y1\":{\"field\":\"Low\"}},\"id\":\"1924\",\"type\":\"Segment\"},{\"attributes\":{},\"id\":\"1849\",\"type\":\"CrosshairTool\"},{\"attributes\":{},\"id\":\"1821\",\"type\":\"UnionRenderers\"},{\"attributes\":{},\"id\":\"1850\",\"type\":\"SaveTool\"},{\"attributes\":{\"source\":{\"id\":\"1690\",\"type\":\"ColumnDataSource\"}},\"id\":\"1917\",\"type\":\"CDSView\"},{\"attributes\":{\"data_source\":{\"id\":\"1922\",\"type\":\"ColumnDataSource\"},\"glyph\":{\"id\":\"1924\",\"type\":\"Segment\"},\"hover_glyph\":null,\"muted_glyph\":null,\"nonselection_glyph\":{\"id\":\"1925\",\"type\":\"Segment\"},\"selection_glyph\":null,\"view\":{\"id\":\"1927\",\"type\":\"CDSView\"}},\"id\":\"1926\",\"type\":\"GlyphRenderer\"},{\"attributes\":{\"callback\":null,\"data\":{\"x\":[65,99]},\"selected\":{\"id\":\"1984\",\"type\":\"Selection\"},\"selection_policy\":{\"id\":\"1983\",\"type\":\"UnionRenderers\"}},\"id\":\"1803\",\"type\":\"ColumnDataSource\"},{\"attributes\":{\"fill_alpha\":{\"value\":0.1},\"fill_color\":{\"value\":\"#1f77b4\"},\"line_alpha\":{\"value\":0.1},\"line_color\":{\"value\":\"#1f77b4\"},\"marker\":{\"value\":\"triangle\"},\"size\":{\"field\":\"marker_size\",\"units\":\"screen\"},\"x\":{\"field\":\"index\"},\"y\":{\"field\":\"returns_long\"}},\"id\":\"1863\",\"type\":\"Scatter\"},{\"attributes\":{\"line_alpha\":{\"value\":0.1},\"line_color\":{\"value\":\"#1f77b4\"},\"x0\":{\"field\":\"index\"},\"x1\":{\"field\":\"index\"},\"y0\":{\"field\":\"High\"},\"y1\":{\"field\":\"Low\"}},\"id\":\"1925\",\"type\":\"Segment\"},{\"attributes\":{\"line_color\":\"red\",\"line_width\":2,\"x\":{\"field\":\"x\"},\"y\":{\"value\":1.0069882139892}},\"id\":\"1804\",\"type\":\"Line\"},{\"attributes\":{\"format\":\"0.[00]%\"},\"id\":\"1875\",\"type\":\"NumeralTickFormatter\"},{\"attributes\":{\"source\":{\"id\":\"1691\",\"type\":\"ColumnDataSource\"}},\"id\":\"1865\",\"type\":\"CDSView\"},{\"attributes\":{},\"id\":\"1951\",\"type\":\"BasicTickFormatter\"},{\"attributes\":{\"line_color\":\"#1f77b4\",\"line_width\":1.5,\"x\":{\"field\":\"index\"},\"y\":{\"field\":\"equity\"}},\"id\":\"1740\",\"type\":\"Line\"},{\"attributes\":{\"data_source\":{\"id\":\"1691\",\"type\":\"ColumnDataSource\"},\"glyph\":{\"id\":\"1945\",\"type\":\"MultiLine\"},\"hover_glyph\":null,\"muted_glyph\":null,\"nonselection_glyph\":{\"id\":\"1946\",\"type\":\"MultiLine\"},\"selection_glyph\":null,\"view\":{\"id\":\"1948\",\"type\":\"CDSView\"}},\"id\":\"1947\",\"type\":\"GlyphRenderer\"},{\"attributes\":{\"ticker\":{\"id\":\"1664\",\"type\":\"BasicTicker\"}},\"id\":\"1667\",\"type\":\"Grid\"},{\"attributes\":{\"dimensions\":\"width\"},\"id\":\"1716\",\"type\":\"PanTool\"},{\"attributes\":{\"fill_color\":{\"field\":\"returns_positive\",\"transform\":{\"id\":\"1693\",\"type\":\"CategoricalColorMapper\"}},\"marker\":{\"value\":\"inverted_triangle\"},\"size\":{\"field\":\"marker_size\",\"units\":\"screen\"},\"x\":{\"field\":\"index\"},\"y\":{\"field\":\"returns_short\"}},\"id\":\"1867\",\"type\":\"Scatter\"},{\"attributes\":{\"source\":{\"id\":\"1922\",\"type\":\"ColumnDataSource\"}},\"id\":\"1933\",\"type\":\"CDSView\"},{\"attributes\":{\"dimensions\":\"width\",\"maintain_focus\":false},\"id\":\"1717\",\"type\":\"WheelZoomTool\"},{\"attributes\":{\"overlay\":{\"id\":\"1762\",\"type\":\"BoxAnnotation\"}},\"id\":\"1718\",\"type\":\"BoxZoomTool\"},{\"attributes\":{\"days\":[\"%d %b\",\"%a %d\"],\"months\":[\"%m/%Y\",\"%b'%y\"]},\"id\":\"1695\",\"type\":\"DatetimeTickFormatter\"},{\"attributes\":{\"below\":[{\"id\":\"1885\",\"type\":\"LinearAxis\"}],\"center\":[{\"id\":\"1889\",\"type\":\"Grid\"},{\"id\":\"1894\",\"type\":\"Grid\"}],\"left\":[{\"id\":\"1890\",\"type\":\"LinearAxis\"}],\"min_border_bottom\":6,\"min_border_left\":0,\"min_border_right\":10,\"min_border_top\":3,\"outline_line_color\":{\"value\":\"#666666\"},\"plot_height\":90,\"plot_width\":null,\"renderers\":[{\"id\":\"1916\",\"type\":\"GlyphRenderer\"}],\"sizing_mode\":\"stretch_width\",\"title\":{\"id\":\"2012\",\"type\":\"Title\"},\"toolbar\":{\"id\":\"1903\",\"type\":\"Toolbar\"},\"toolbar_location\":null,\"x_range\":{\"id\":\"1654\",\"type\":\"Range1d\"},\"x_scale\":{\"id\":\"1881\",\"type\":\"LinearScale\"},\"y_range\":{\"id\":\"1879\",\"type\":\"DataRange1d\"},\"y_scale\":{\"id\":\"1883\",\"type\":\"LinearScale\"}},\"id\":\"1877\",\"subtype\":\"Figure\",\"type\":\"Plot\"},{\"attributes\":{\"border_line_color\":{\"value\":\"#333333\"},\"items\":[{\"id\":\"1960\",\"type\":\"LegendItem\"}],\"label_text_font_size\":{\"value\":\"8pt\"},\"location\":\"top_left\",\"margin\":0,\"padding\":5,\"spacing\":0},\"id\":\"1959\",\"type\":\"Legend\"},{\"attributes\":{},\"id\":\"1719\",\"type\":\"UndoTool\"},{\"attributes\":{\"data_source\":{\"id\":\"1922\",\"type\":\"ColumnDataSource\"},\"glyph\":{\"id\":\"1930\",\"type\":\"VBar\"},\"hover_glyph\":null,\"muted_glyph\":null,\"nonselection_glyph\":{\"id\":\"1931\",\"type\":\"VBar\"},\"selection_glyph\":null,\"view\":{\"id\":\"1933\",\"type\":\"CDSView\"}},\"id\":\"1932\",\"type\":\"GlyphRenderer\"},{\"attributes\":{\"formatter\":{\"id\":\"1951\",\"type\":\"BasicTickFormatter\"},\"ticker\":{\"id\":\"1669\",\"type\":\"BasicTicker\"}},\"id\":\"1668\",\"type\":\"LinearAxis\"},{\"attributes\":{\"source\":{\"id\":\"1691\",\"type\":\"ColumnDataSource\"}},\"id\":\"1948\",\"type\":\"CDSView\"},{\"attributes\":{},\"id\":\"1721\",\"type\":\"ResetTool\"},{\"attributes\":{\"fill_alpha\":{\"value\":0.1},\"fill_color\":{\"value\":\"#1f77b4\"},\"line_alpha\":{\"value\":0.1},\"line_color\":{\"value\":\"#1f77b4\"},\"marker\":{\"value\":\"inverted_triangle\"},\"size\":{\"field\":\"marker_size\",\"units\":\"screen\"},\"x\":{\"field\":\"index\"},\"y\":{\"field\":\"returns_short\"}},\"id\":\"1868\",\"type\":\"Scatter\"},{\"attributes\":{\"text\":\"\"},\"id\":\"1950\",\"type\":\"Title\"},{\"attributes\":{\"callback\":null,\"data\":{\"Close\":{\"__ndarray__\":\"76fGSzfJW0C28/3UeLlbQPLSTWIQuFtAc2iR7XyvW0DdJAaBlbNbQOj7qfHStVtAGy/dJAa5W0DJdr6fGq9bQAisHFpkq1tAl24Sg8CqW0BzaJHtfJ9bQLgehetRoFtAne+nxkunW0BMN4lBYKVbQIPAyqFFpltA+FPjpZukW0AxCKwcWqRbQA==\",\"dtype\":\"float64\",\"shape\":[17]},\"High\":{\"__ndarray__\":\"16NwPQrPW0Do+6nx0s1bQFyPwvUovFtAYxBYObS4W0ASg8DKobVbQEjhehSut1tAsXJoke28W0BSuB6F67lbQFYOLbKdr1tAarx0kxisW0B46SYxCKxbQOF6FK5HoVtARbbz/dSoW0C4HoXrUahbQIPAyqFFpltAZmZmZmamW0BFtvP91KhbQA==\",\"dtype\":\"float64\",\"shape\":[17]},\"Low\":{\"__ndarray__\":\"u0kMAivHW0CDwMqhRbZbQNrO91PjtVtAEoPAyqGtW0BaZDvfT61bQG4Sg8DKsVtAL90kBoG1W0DFILByaKFbQLbz/dR4qVtAmpmZmZmpW0ASg8DKoZ1bQJzEILBymFtAAyuHFtmeW0A2XrpJDKJbQKrx0k1ioFtACtejcD2iW0AxCKwcWqRbQA==\",\"dtype\":\"float64\",\"shape\":[17]},\"Open\":{\"__ndarray__\":\"+FPjpZvMW0DFILByaMlbQJqZmZmZuVtAxks3iUG4W0CPwvUoXK9bQPp+arx0s1tAvHSTGAS2W0Dvp8ZLN7lbQFYOLbKdr1tAJQaBlUOrW0Bt5/up8apbQFYOLbKdn1tAnMQgsHKgW0BzaJHtfKdbQIXrUbgepVtAoBov3SSmW0DNzMzMzKRbQA==\",\"dtype\":\"float64\",\"shape\":[17]},\"Volume\":[887,2139,2128,1042,646,644,615,1798,353,265,626,1048,1007,705,593,377,419],\"_width\":{\"__ndarray__\":\"mpmZmZmZE0CamZmZmZkXQJqZmZmZmRdAmpmZmZmZF0CamZmZmZkXQJqZmZmZmRdAmpmZmZmZF0CamZmZmZkXQJqZmZmZmRdAmpmZmZmZF0CamZmZmZkXQJqZmZmZmRdAmpmZmZmZF0CamZmZmZkXQJqZmZmZmRdAmpmZmZmZF0CamZmZmZkTQA==\",\"dtype\":\"float64\",\"shape\":[17]},\"inc\":[\"0\",\"0\",\"0\",\"0\",\"1\",\"1\",\"1\",\"0\",\"0\",\"0\",\"0\",\"1\",\"1\",\"0\",\"1\",\"0\",\"0\"],\"index\":{\"__ndarray__\":\"AAAAAAAAAEAAAAAAAAAeQAAAAAAAACtAAAAAAACAM0AAAAAAAIA5QAAAAAAAgD9AAAAAAADAQkAAAAAAAMBFQAAAAAAAwEhAAAAAAADAS0AAAAAAAMBOQAAAAAAA4FBAAAAAAABgUkAAAAAAAOBTQAAAAAAAYFVAAAAAAADgVkAAAAAAAEBYQA==\",\"dtype\":\"float64\",\"shape\":[17]}},\"selected\":{\"id\":\"1955\",\"type\":\"Selection\"},\"selection_policy\":{\"id\":\"1954\",\"type\":\"UnionRenderers\"}},\"id\":\"1922\",\"type\":\"ColumnDataSource\"},{\"attributes\":{\"args\":{\"axis\":{\"id\":\"1663\",\"type\":\"LinearAxis\"},\"formatter\":{\"id\":\"1695\",\"type\":\"DatetimeTickFormatter\"},\"source\":{\"id\":\"1690\",\"type\":\"ColumnDataSource\"}},\"code\":\"\\nthis.labels = this.labels || formatter.doFormat(ticks\\n                                                .map(i => source.data.datetime[i])\\n                                                .filter(t => t !== undefined));\\nreturn this.labels[index] || \\\"\\\";\\n        \"},\"id\":\"1696\",\"type\":\"FuncTickFormatter\"},{\"attributes\":{},\"id\":\"1720\",\"type\":\"RedoTool\"},{\"attributes\":{},\"id\":\"1669\",\"type\":\"BasicTicker\"},{\"attributes\":{},\"id\":\"1955\",\"type\":\"Selection\"},{\"attributes\":{\"data_source\":{\"id\":\"1691\",\"type\":\"ColumnDataSource\"},\"glyph\":{\"id\":\"1867\",\"type\":\"Scatter\"},\"hover_glyph\":null,\"muted_glyph\":null,\"nonselection_glyph\":{\"id\":\"1868\",\"type\":\"Scatter\"},\"selection_glyph\":null,\"view\":{\"id\":\"1870\",\"type\":\"CDSView\"}},\"id\":\"1869\",\"type\":\"GlyphRenderer\"},{\"attributes\":{\"bottom\":{\"field\":\"Close\"},\"fill_alpha\":{\"value\":0.1},\"fill_color\":{\"value\":\"#1f77b4\"},\"line_alpha\":{\"value\":0.1},\"line_color\":{\"value\":\"#1f77b4\"},\"top\":{\"field\":\"Open\"},\"width\":{\"field\":\"_width\"},\"x\":{\"field\":\"index\"}},\"id\":\"1931\",\"type\":\"VBar\"},{\"attributes\":{\"source\":{\"id\":\"1690\",\"type\":\"ColumnDataSource\"}},\"id\":\"1938\",\"type\":\"CDSView\"},{\"attributes\":{},\"id\":\"1954\",\"type\":\"UnionRenderers\"},{\"attributes\":{\"callback\":null,\"formatters\":{\"@datetime\":\"datetime\"},\"point_policy\":\"follow_mouse\",\"renderers\":[{\"id\":\"1864\",\"type\":\"GlyphRenderer\"}],\"tooltips\":[[\"Date\",\"@datetime{%c}\"],[\"Size\",\"@size{0,0}\"],[\"P/L\",\"@returns_long{+0.[000]%}\"]]},\"id\":\"1871\",\"type\":\"HoverTool\"},{\"attributes\":{\"bottom\":{\"field\":\"Close\"},\"fill_color\":{\"field\":\"inc\",\"transform\":{\"id\":\"1928\",\"type\":\"CategoricalColorMapper\"}},\"line_color\":{\"value\":null},\"top\":{\"field\":\"Open\"},\"width\":{\"field\":\"_width\"},\"x\":{\"field\":\"index\"}},\"id\":\"1930\",\"type\":\"VBar\"},{\"attributes\":{\"factors\":[\"0\",\"1\"],\"palette\":[\"tomato\",\"lime\"]},\"id\":\"1692\",\"type\":\"CategoricalColorMapper\"},{\"attributes\":{\"source\":{\"id\":\"1691\",\"type\":\"ColumnDataSource\"}},\"id\":\"1870\",\"type\":\"CDSView\"},{\"attributes\":{\"factors\":[\"0\",\"1\"],\"palette\":[\"rgb(178, 27, 0)\",\"rgb(0, 178, 0)\"]},\"id\":\"1694\",\"type\":\"CategoricalColorMapper\"},{\"attributes\":{\"formatter\":{\"id\":\"1696\",\"type\":\"FuncTickFormatter\"},\"ticker\":{\"id\":\"1664\",\"type\":\"BasicTicker\"},\"visible\":false},\"id\":\"1663\",\"type\":\"LinearAxis\"},{\"attributes\":{},\"id\":\"1722\",\"type\":\"CrosshairTool\"},{\"attributes\":{\"bottom_units\":\"screen\",\"fill_alpha\":{\"value\":0.5},\"fill_color\":{\"value\":\"lightgrey\"},\"left_units\":\"screen\",\"level\":\"overlay\",\"line_alpha\":{\"value\":1.0},\"line_color\":{\"value\":\"black\"},\"line_dash\":[4,4],\"line_width\":{\"value\":2},\"render_mode\":\"css\",\"right_units\":\"screen\",\"top_units\":\"screen\"},\"id\":\"1958\",\"type\":\"BoxAnnotation\"},{\"attributes\":{},\"id\":\"1984\",\"type\":\"Selection\"},{\"attributes\":{\"dimension\":1,\"ticker\":{\"id\":\"1669\",\"type\":\"BasicTicker\"}},\"id\":\"1672\",\"type\":\"Grid\"},{\"attributes\":{},\"id\":\"1723\",\"type\":\"SaveTool\"},{\"attributes\":{\"source\":{\"id\":\"1748\",\"type\":\"ColumnDataSource\"}},\"id\":\"1752\",\"type\":\"CDSView\"},{\"attributes\":{\"bottom\":{\"field\":\"Close\"},\"fill_color\":{\"field\":\"inc\",\"transform\":{\"id\":\"1692\",\"type\":\"CategoricalColorMapper\"}},\"top\":{\"field\":\"Open\"},\"width\":{\"value\":0.8},\"x\":{\"field\":\"index\"}},\"id\":\"1940\",\"type\":\"VBar\"},{\"attributes\":{\"factors\":[\"0\",\"1\"],\"palette\":[\"tomato\",\"lime\"]},\"id\":\"1693\",\"type\":\"CategoricalColorMapper\"},{\"attributes\":{},\"id\":\"1881\",\"type\":\"LinearScale\"},{\"attributes\":{\"label\":{\"value\":\"Trades (0)\"},\"renderers\":[{\"id\":\"1947\",\"type\":\"GlyphRenderer\"}]},\"id\":\"1960\",\"type\":\"LegendItem\"},{\"attributes\":{},\"id\":\"1891\",\"type\":\"BasicTicker\"},{\"attributes\":{\"callback\":null,\"formatters\":{\"@datetime\":\"datetime\"},\"point_policy\":\"follow_mouse\",\"renderers\":[{\"id\":\"1869\",\"type\":\"GlyphRenderer\"}],\"tooltips\":[[\"Date\",\"@datetime{%c}\"],[\"Size\",\"@size{0,0}\"],[\"P/L\",\"@returns_short{+0.[000]%}\"]]},\"id\":\"1873\",\"type\":\"HoverTool\"},{\"attributes\":{\"callback\":null,\"formatters\":{\"@datetime\":\"datetime\"},\"mode\":\"vline\",\"point_policy\":\"follow_mouse\",\"renderers\":[{\"id\":\"1942\",\"type\":\"GlyphRenderer\"}],\"tooltips\":[[\"Date\",\"@datetime{%c}\"],[\"x, y\",\"$index&nbsp;&nbsp;&nbsp;&nbsp;$y{0,0.0[0000]}\"],[\"OHLC\",\"@Open{0,0.0[0000]}&nbsp;&nbsp;&nbsp;&nbsp;@High{0,0.0[0000]}&nbsp;&nbsp;&nbsp;&nbsp;@Low{0,0.0[0000]}&nbsp;&nbsp;&nbsp;&nbsp;@Close{0,0.0[0000]}\"],[\"Volume\",\"@Volume{0,0}\"]]},\"id\":\"1961\",\"type\":\"HoverTool\"},{\"attributes\":{\"x0\":{\"field\":\"index\"},\"x1\":{\"field\":\"index\"},\"y0\":{\"field\":\"High\"},\"y1\":{\"field\":\"Low\"}},\"id\":\"1935\",\"type\":\"Segment\"},{\"attributes\":{\"children\":[[{\"id\":\"1698\",\"subtype\":\"Figure\",\"type\":\"Plot\"},0,0],[{\"id\":\"1825\",\"subtype\":\"Figure\",\"type\":\"Plot\"},1,0],[{\"id\":\"1655\",\"subtype\":\"Figure\",\"type\":\"Plot\"},2,0],[{\"id\":\"1877\",\"subtype\":\"Figure\",\"type\":\"Plot\"},3,0]]},\"id\":\"2020\",\"type\":\"GridBox\"},{\"attributes\":{\"callback\":null},\"id\":\"1879\",\"type\":\"DataRange1d\"},{\"attributes\":{\"active_drag\":{\"id\":\"1716\",\"type\":\"PanTool\"},\"active_inspect\":\"auto\",\"active_multi\":null,\"active_scroll\":{\"id\":\"1717\",\"type\":\"WheelZoomTool\"},\"active_tap\":\"auto\",\"tools\":[{\"id\":\"1716\",\"type\":\"PanTool\"},{\"id\":\"1717\",\"type\":\"WheelZoomTool\"},{\"id\":\"1718\",\"type\":\"BoxZoomTool\"},{\"id\":\"1719\",\"type\":\"UndoTool\"},{\"id\":\"1720\",\"type\":\"RedoTool\"},{\"id\":\"1721\",\"type\":\"ResetTool\"},{\"id\":\"1722\",\"type\":\"CrosshairTool\"},{\"id\":\"1723\",\"type\":\"SaveTool\"},{\"id\":\"1744\",\"type\":\"HoverTool\"}]},\"id\":\"1724\",\"type\":\"Toolbar\"},{\"attributes\":{\"bottom\":{\"field\":\"Close\"},\"fill_alpha\":{\"value\":0.1},\"fill_color\":{\"value\":\"#1f77b4\"},\"line_alpha\":{\"value\":0.1},\"line_color\":{\"value\":\"#1f77b4\"},\"top\":{\"field\":\"Open\"},\"width\":{\"value\":0.8},\"x\":{\"field\":\"index\"}},\"id\":\"1941\",\"type\":\"VBar\"},{\"attributes\":{},\"id\":\"1702\",\"type\":\"LinearScale\"},{\"attributes\":{\"dimensions\":\"width\",\"maintain_focus\":false},\"id\":\"1674\",\"type\":\"WheelZoomTool\"},{\"attributes\":{\"args\":{\"ohlc_range\":{\"id\":\"1657\",\"type\":\"DataRange1d\"},\"source\":{\"id\":\"1690\",\"type\":\"ColumnDataSource\"},\"volume_range\":{\"id\":\"1879\",\"type\":\"DataRange1d\"}},\"code\":\"if (!window._bt_scale_range) {\\n    window._bt_scale_range = function (range, min, max, pad) {\\n        \\\"use strict\\\";\\n        if (min !== Infinity && max !== -Infinity) {\\n            pad = pad ? (max - min) * .03 : 0;\\n            range.start = min - pad;\\n            range.end = max + pad;\\n        } else console.error('backtesting: scale range error:', min, max, range);\\n    };\\n}\\n\\nclearTimeout(window._bt_autoscale_timeout);\\n\\nwindow._bt_autoscale_timeout = setTimeout(function () {\\n    /**\\n     * @variable cb_obj `fig_ohlc.x_range`.\\n     * @variable source `ColumnDataSource`\\n     * @variable ohlc_range `fig_ohlc.y_range`.\\n     * @variable volume_range `fig_volume.y_range`.\\n     */\\n    \\\"use strict\\\";\\n\\n    let i = Math.max(Math.floor(cb_obj.start), 0),\\n        j = Math.min(Math.ceil(cb_obj.end), source.data['ohlc_high'].length);\\n\\n    let max = Math.max.apply(null, source.data['ohlc_high'].slice(i, j)),\\n        min = Math.min.apply(null, source.data['ohlc_low'].slice(i, j));\\n    _bt_scale_range(ohlc_range, min, max, true);\\n\\n    if (volume_range) {\\n        max = Math.max.apply(null, source.data['Volume'].slice(i, j));\\n        _bt_scale_range(volume_range, 0, max * 1.03, false);\\n    }\\n\\n}, 50);\\n\"},\"id\":\"1963\",\"type\":\"CustomJS\"},{\"attributes\":{},\"id\":\"1883\",\"type\":\"LinearScale\"},{\"attributes\":{\"line_alpha\":0.1,\"line_color\":\"#1f77b4\",\"line_width\":1.5,\"x\":{\"field\":\"index\"},\"y\":{\"field\":\"equity\"}},\"id\":\"1741\",\"type\":\"Line\"},{\"attributes\":{\"axis_label\":\"Volume\",\"formatter\":{\"id\":\"1920\",\"type\":\"NumeralTickFormatter\"},\"minor_tick_line_color\":{\"value\":null},\"ticker\":{\"id\":\"1891\",\"type\":\"BasicTicker\"}},\"id\":\"1890\",\"type\":\"LinearAxis\"},{\"attributes\":{\"source\":{\"id\":\"1733\",\"type\":\"ColumnDataSource\"}},\"id\":\"1738\",\"type\":\"CDSView\"},{\"attributes\":{\"active_drag\":{\"id\":\"1673\",\"type\":\"PanTool\"},\"active_inspect\":\"auto\",\"active_multi\":null,\"active_scroll\":{\"id\":\"1674\",\"type\":\"WheelZoomTool\"},\"active_tap\":\"auto\",\"tools\":[{\"id\":\"1673\",\"type\":\"PanTool\"},{\"id\":\"1674\",\"type\":\"WheelZoomTool\"},{\"id\":\"1675\",\"type\":\"BoxZoomTool\"},{\"id\":\"1676\",\"type\":\"UndoTool\"},{\"id\":\"1677\",\"type\":\"RedoTool\"},{\"id\":\"1678\",\"type\":\"ResetTool\"},{\"id\":\"1679\",\"type\":\"CrosshairTool\"},{\"id\":\"1680\",\"type\":\"SaveTool\"},{\"id\":\"1961\",\"type\":\"HoverTool\"}]},\"id\":\"1681\",\"type\":\"Toolbar\"},{\"attributes\":{\"formatter\":{\"id\":\"1696\",\"type\":\"FuncTickFormatter\"},\"ticker\":{\"id\":\"1886\",\"type\":\"BasicTicker\"},\"visible\":true},\"id\":\"1885\",\"type\":\"LinearAxis\"},{\"attributes\":{},\"id\":\"1993\",\"type\":\"Selection\"},{\"attributes\":{},\"id\":\"1886\",\"type\":\"BasicTicker\"},{\"attributes\":{},\"id\":\"1992\",\"type\":\"UnionRenderers\"},{\"attributes\":{\"ticker\":{\"id\":\"1886\",\"type\":\"BasicTicker\"}},\"id\":\"1889\",\"type\":\"Grid\"},{\"attributes\":{\"dimension\":1,\"ticker\":{\"id\":\"1891\",\"type\":\"BasicTicker\"}},\"id\":\"1894\",\"type\":\"Grid\"},{\"attributes\":{\"text\":\"\"},\"id\":\"2012\",\"type\":\"Title\"},{\"attributes\":{\"dimensions\":\"width\"},\"id\":\"1673\",\"type\":\"PanTool\"},{\"attributes\":{\"data_source\":{\"id\":\"1690\",\"type\":\"ColumnDataSource\"},\"glyph\":{\"id\":\"1740\",\"type\":\"Line\"},\"hover_glyph\":null,\"muted_glyph\":null,\"nonselection_glyph\":{\"id\":\"1741\",\"type\":\"Line\"},\"selection_glyph\":null,\"view\":{\"id\":\"1743\",\"type\":\"CDSView\"}},\"id\":\"1742\",\"type\":\"GlyphRenderer\"},{\"attributes\":{\"callback\":null,\"data\":{\"datetime\":{\"__ndarray__\":\"\",\"dtype\":\"float64\",\"shape\":[0]},\"exit_price\":{\"__ndarray__\":\"\",\"dtype\":\"float64\",\"shape\":[0]},\"index\":{\"__ndarray__\":\"\",\"dtype\":\"float64\",\"shape\":[0]},\"marker_size\":{\"__ndarray__\":\"\",\"dtype\":\"float64\",\"shape\":[0]},\"position_lines_xs\":[],\"position_lines_ys\":[],\"returns_long\":{\"__ndarray__\":\"\",\"dtype\":\"float64\",\"shape\":[0]},\"returns_positive\":[],\"returns_short\":{\"__ndarray__\":\"\",\"dtype\":\"float64\",\"shape\":[0]},\"size\":{\"__ndarray__\":\"\",\"dtype\":\"float64\",\"shape\":[0]}},\"selected\":{\"id\":\"1993\",\"type\":\"Selection\"},\"selection_policy\":{\"id\":\"1992\",\"type\":\"UnionRenderers\"}},\"id\":\"1691\",\"type\":\"ColumnDataSource\"},{\"attributes\":{\"below\":[{\"id\":\"1706\",\"type\":\"LinearAxis\"}],\"center\":[{\"id\":\"1710\",\"type\":\"Grid\"},{\"id\":\"1715\",\"type\":\"Grid\"},{\"id\":\"1763\",\"type\":\"Legend\"}],\"left\":[{\"id\":\"1711\",\"type\":\"LinearAxis\"}],\"min_border_bottom\":6,\"min_border_left\":0,\"min_border_right\":10,\"min_border_top\":3,\"outline_line_color\":{\"value\":\"#666666\"},\"plot_height\":110,\"plot_width\":null,\"renderers\":[{\"id\":\"1737\",\"type\":\"GlyphRenderer\"},{\"id\":\"1742\",\"type\":\"GlyphRenderer\"},{\"id\":\"1751\",\"type\":\"GlyphRenderer\"},{\"id\":\"1768\",\"type\":\"GlyphRenderer\"},{\"id\":\"1786\",\"type\":\"GlyphRenderer\"},{\"id\":\"1806\",\"type\":\"GlyphRenderer\"}],\"sizing_mode\":\"stretch_width\",\"title\":{\"id\":\"1754\",\"type\":\"Title\"},\"toolbar\":{\"id\":\"1724\",\"type\":\"Toolbar\"},\"toolbar_location\":null,\"x_range\":{\"id\":\"1654\",\"type\":\"Range1d\"},\"x_scale\":{\"id\":\"1702\",\"type\":\"LinearScale\"},\"y_range\":{\"id\":\"1700\",\"type\":\"DataRange1d\"},\"y_scale\":{\"id\":\"1704\",\"type\":\"LinearScale\"}},\"id\":\"1698\",\"subtype\":\"Figure\",\"type\":\"Plot\"},{\"attributes\":{\"format\":\"0 a\"},\"id\":\"1920\",\"type\":\"NumeralTickFormatter\"},{\"attributes\":{\"data_source\":{\"id\":\"1690\",\"type\":\"ColumnDataSource\"},\"glyph\":{\"id\":\"1940\",\"type\":\"VBar\"},\"hover_glyph\":null,\"muted_glyph\":null,\"nonselection_glyph\":{\"id\":\"1941\",\"type\":\"VBar\"},\"selection_glyph\":null,\"view\":{\"id\":\"1943\",\"type\":\"CDSView\"}},\"id\":\"1942\",\"type\":\"GlyphRenderer\"},{\"attributes\":{},\"id\":\"1678\",\"type\":\"ResetTool\"},{\"attributes\":{\"format\":\"0,0.[00]%\"},\"id\":\"1746\",\"type\":\"NumeralTickFormatter\"},{\"attributes\":{\"bottom_units\":\"screen\",\"fill_alpha\":{\"value\":0.5},\"fill_color\":{\"value\":\"lightgrey\"},\"left_units\":\"screen\",\"level\":\"overlay\",\"line_alpha\":{\"value\":1.0},\"line_color\":{\"value\":\"black\"},\"line_dash\":[4,4],\"line_width\":{\"value\":2},\"render_mode\":\"css\",\"right_units\":\"screen\",\"top_units\":\"screen\"},\"id\":\"1994\",\"type\":\"BoxAnnotation\"},{\"attributes\":{\"text\":\"\"},\"id\":\"1988\",\"type\":\"Title\"},{\"attributes\":{\"callback\":null,\"formatters\":{\"@datetime\":\"datetime\"},\"mode\":\"vline\",\"point_policy\":\"follow_mouse\",\"renderers\":[{\"id\":\"1742\",\"type\":\"GlyphRenderer\"}],\"tooltips\":[[\"Date\",\"@datetime{%c}\"],[\"Equity\",\"@equity{+0,0.[000]%}\"]]},\"id\":\"1744\",\"type\":\"HoverTool\"},{\"attributes\":{},\"id\":\"1707\",\"type\":\"BasicTicker\"},{\"attributes\":{\"fill_alpha\":{\"value\":0.1},\"fill_color\":{\"value\":\"#1f77b4\"},\"line_alpha\":{\"value\":0.1},\"line_color\":{\"value\":\"#1f77b4\"},\"top\":{\"field\":\"Volume\"},\"width\":{\"value\":0.8},\"x\":{\"field\":\"index\"}},\"id\":\"1915\",\"type\":\"VBar\"},{\"attributes\":{},\"id\":\"1983\",\"type\":\"UnionRenderers\"},{\"attributes\":{\"data_source\":{\"id\":\"1690\",\"type\":\"ColumnDataSource\"},\"glyph\":{\"id\":\"1935\",\"type\":\"Segment\"},\"hover_glyph\":null,\"muted_glyph\":null,\"nonselection_glyph\":{\"id\":\"1936\",\"type\":\"Segment\"},\"selection_glyph\":null,\"view\":{\"id\":\"1938\",\"type\":\"CDSView\"}},\"id\":\"1937\",\"type\":\"GlyphRenderer\"},{\"attributes\":{\"callback\":null},\"id\":\"1657\",\"type\":\"DataRange1d\"},{\"attributes\":{\"source\":{\"id\":\"1690\",\"type\":\"ColumnDataSource\"}},\"id\":\"1743\",\"type\":\"CDSView\"},{\"attributes\":{\"data_source\":{\"id\":\"1690\",\"type\":\"ColumnDataSource\"},\"glyph\":{\"id\":\"1914\",\"type\":\"VBar\"},\"hover_glyph\":null,\"muted_glyph\":null,\"nonselection_glyph\":{\"id\":\"1915\",\"type\":\"VBar\"},\"selection_glyph\":null,\"view\":{\"id\":\"1917\",\"type\":\"CDSView\"}},\"id\":\"1916\",\"type\":\"GlyphRenderer\"},{\"attributes\":{},\"id\":\"1679\",\"type\":\"CrosshairTool\"},{\"attributes\":{\"callback\":null,\"data\":{},\"selected\":{\"id\":\"1780\",\"type\":\"Selection\"},\"selection_policy\":{\"id\":\"1779\",\"type\":\"UnionRenderers\"}},\"id\":\"1748\",\"type\":\"ColumnDataSource\"},{\"attributes\":{},\"id\":\"1664\",\"type\":\"BasicTicker\"},{\"attributes\":{\"fill_color\":{\"field\":\"inc\",\"transform\":{\"id\":\"1692\",\"type\":\"CategoricalColorMapper\"}},\"line_color\":{\"field\":\"inc\",\"transform\":{\"id\":\"1692\",\"type\":\"CategoricalColorMapper\"}},\"top\":{\"field\":\"Volume\"},\"width\":{\"value\":0.8},\"x\":{\"field\":\"index\"}},\"id\":\"1914\",\"type\":\"VBar\"},{\"attributes\":{\"callback\":null,\"data\":{},\"selected\":{\"id\":\"1800\",\"type\":\"Selection\"},\"selection_policy\":{\"id\":\"1799\",\"type\":\"UnionRenderers\"}},\"id\":\"1765\",\"type\":\"ColumnDataSource\"},{\"attributes\":{},\"id\":\"1990\",\"type\":\"BasicTickFormatter\"},{\"attributes\":{\"callback\":null},\"id\":\"1700\",\"type\":\"DataRange1d\"},{\"attributes\":{\"overlay\":{\"id\":\"1958\",\"type\":\"BoxAnnotation\"}},\"id\":\"1675\",\"type\":\"BoxZoomTool\"},{\"attributes\":{},\"id\":\"1676\",\"type\":\"UndoTool\"},{\"attributes\":{\"dimensions\":\"width\"},\"id\":\"1895\",\"type\":\"PanTool\"},{\"attributes\":{\"source\":{\"id\":\"1690\",\"type\":\"ColumnDataSource\"}},\"id\":\"1943\",\"type\":\"CDSView\"},{\"attributes\":{},\"id\":\"1780\",\"type\":\"Selection\"},{\"attributes\":{\"dimensions\":\"width\",\"maintain_focus\":false},\"id\":\"1896\",\"type\":\"WheelZoomTool\"},{\"attributes\":{\"overlay\":{\"id\":\"2017\",\"type\":\"BoxAnnotation\"}},\"id\":\"1897\",\"type\":\"BoxZoomTool\"},{\"attributes\":{\"fill_alpha\":{\"value\":0.1},\"fill_color\":{\"value\":\"#1f77b4\"},\"line_alpha\":{\"value\":0.1},\"line_color\":{\"value\":\"#1f77b4\"},\"size\":{\"units\":\"screen\",\"value\":8},\"x\":{\"value\":65},\"y\":{\"value\":1.0069882139892}},\"id\":\"1750\",\"type\":\"Scatter\"},{\"attributes\":{\"data_source\":{\"id\":\"1748\",\"type\":\"ColumnDataSource\"},\"glyph\":{\"id\":\"1749\",\"type\":\"Scatter\"},\"hover_glyph\":null,\"muted_glyph\":null,\"nonselection_glyph\":{\"id\":\"1750\",\"type\":\"Scatter\"},\"selection_glyph\":null,\"view\":{\"id\":\"1752\",\"type\":\"CDSView\"}},\"id\":\"1751\",\"type\":\"GlyphRenderer\"},{\"attributes\":{},\"id\":\"1898\",\"type\":\"UndoTool\"},{\"attributes\":{},\"id\":\"1677\",\"type\":\"RedoTool\"},{\"attributes\":{\"fill_alpha\":0.1,\"fill_color\":\"#1f77b4\",\"line_alpha\":0.1,\"line_color\":\"#1f77b4\",\"x\":{\"field\":\"index\"},\"y\":{\"field\":\"equity_dd\"}},\"id\":\"1736\",\"type\":\"Patch\"},{\"attributes\":{\"fill_color\":{\"value\":\"cyan\"},\"line_color\":{\"value\":\"cyan\"},\"size\":{\"units\":\"screen\",\"value\":8},\"x\":{\"value\":65},\"y\":{\"value\":1.0069882139892}},\"id\":\"1749\",\"type\":\"Scatter\"},{\"attributes\":{\"data_source\":{\"id\":\"1733\",\"type\":\"ColumnDataSource\"},\"glyph\":{\"id\":\"1735\",\"type\":\"Patch\"},\"hover_glyph\":null,\"muted_glyph\":null,\"nonselection_glyph\":{\"id\":\"1736\",\"type\":\"Patch\"},\"selection_glyph\":null,\"view\":{\"id\":\"1738\",\"type\":\"CDSView\"}},\"id\":\"1737\",\"type\":\"GlyphRenderer\"},{\"attributes\":{},\"id\":\"1680\",\"type\":\"SaveTool\"},{\"attributes\":{\"fill_color\":\"#ffffea\",\"line_color\":\"#ffcb66\",\"x\":{\"field\":\"index\"},\"y\":{\"field\":\"equity_dd\"}},\"id\":\"1735\",\"type\":\"Patch\"},{\"attributes\":{},\"id\":\"1899\",\"type\":\"RedoTool\"}],\"root_ids\":[\"2023\"]},\"title\":\"Bokeh Application\",\"version\":\"1.4.0\"}};\n",
       "  var render_items = [{\"docid\":\"24a75991-0619-41d1-9a2c-c34f9925bfea\",\"roots\":{\"2023\":\"87f5b2cc-c44e-4103-991c-f2c61d693e5a\"}}];\n",
       "  root.Bokeh.embed.embed_items_notebook(docs_json, render_items);\n",
       "\n",
       "  }\n",
       "  if (root.Bokeh !== undefined) {\n",
       "    embed_document(root);\n",
       "  } else {\n",
       "    var attempts = 0;\n",
       "    var timer = setInterval(function(root) {\n",
       "      if (root.Bokeh !== undefined) {\n",
       "        clearInterval(timer);\n",
       "        embed_document(root);\n",
       "      } else {\n",
       "        attempts++;\n",
       "        if (attempts > 100) {\n",
       "          clearInterval(timer);\n",
       "          console.log(\"Bokeh: ERROR: Unable to run BokehJS code because BokehJS library is missing\");\n",
       "        }\n",
       "      }\n",
       "    }, 10, root)\n",
       "  }\n",
       "})(window);"
      ],
      "application/vnd.bokehjs_exec.v0+json": ""
     },
     "metadata": {
      "application/vnd.bokehjs_exec.v0+json": {
       "id": "2023"
      }
     },
     "output_type": "display_data"
    }
   ],
   "source": [
    "bt.plot()"
   ]
  },
  {
   "cell_type": "code",
   "execution_count": 35,
   "metadata": {},
   "outputs": [
    {
     "name": "stdout",
     "output_type": "stream",
     "text": [
      "Start                     2019-03-22 11:50:00\n",
      "End                       2019-03-22 12:10:00\n",
      "Duration                      0 days 00:20:00\n",
      "Exposure Time [%]                           0\n",
      "Equity Final [$]                        10000\n",
      "Equity Peak [$]                         10000\n",
      "Return [%]                                  0\n",
      "Buy & Hold Return [%]               0.0815735\n",
      "Max. Drawdown [%]                          -0\n",
      "Avg. Drawdown [%]                         NaN\n",
      "Max. Drawdown Duration                    NaN\n",
      "Avg. Drawdown Duration                    NaN\n",
      "# Trades                                    0\n",
      "Win Rate [%]                              NaN\n",
      "Best Trade [%]                            NaN\n",
      "Worst Trade [%]                           NaN\n",
      "Avg. Trade [%]                            NaN\n",
      "Max. Trade Duration                       NaN\n",
      "Avg. Trade Duration                       NaN\n",
      "Profit Factor                             NaN\n",
      "Expectancy [%]                            NaN\n",
      "SQN                                       NaN\n",
      "Sharpe Ratio                              NaN\n",
      "Sortino Ratio                             NaN\n",
      "Calmar Ratio                              NaN\n",
      "_strategy                          myStrategy\n",
      "_equity_curve                             ...\n",
      "_trades                   Empty DataFrame\n",
      "...\n",
      "dtype: object\n"
     ]
    }
   ],
   "source": [
    "# CSVファイルをPandasデータフレームに読み込む\n",
    "df = pd.read_csv('./USD_JPY_201601-201908_M10.csv', index_col='Datetime')\n",
    "df.index = pd.to_datetime(df.index)\n",
    "\n",
    "# # DateTime列をdatatime型に変換→インデックスに設定して、元の列は削除する\n",
    "# df = df.set_index(pd.to_datetime(df['DateTime'])).drop('DateTime', axis=1) \n",
    "\n",
    "from backtesting import Backtest, Strategy # バックテスト実行、ストラテジー作成\n",
    "from backtesting.lib import crossover\n",
    "from backtesting.test import SMA # SMAインジケータ使用\n",
    "\n",
    "class myStrategy(Strategy):\n",
    "    n1 = 10 # 終値のSMA（単純移動平均）の期間\n",
    "    n2 = 30 # 終値のSMA（単純移動平均）の期間\n",
    "    \n",
    "    def init(self): # ストラテジーの事前処理\n",
    "        self.sma1 = self.I(SMA, self.data.Close, self.n1) # 終値のSMA（単純移動平均）をインジケータとして追加\n",
    "        self.sma2 = self.I(SMA, self.data.Close, self.n2) # 終値のSMA（単純移動平均）をインジケータとして追加\n",
    "        \n",
    "    def next(self): # ヒストリカルデータの行ごとに呼び出される（データの2行目から開始）\n",
    "        if crossover(self.sma1, self.sma2): # sma1がsma2を上回った時\n",
    "            self.buy() # 現在のポジションを閉じて、所持金分買う\n",
    "\n",
    "        elif crossover(self.sma2, self.sma1):\n",
    "            self.sell() # 現在のポジションを閉じて、所持金分売る\n",
    "\n",
    "# バックテストを設定\n",
    "bt = Backtest( \n",
    "    df[120000:120003], # ヒストリカルデータ\n",
    "    myStrategy, # ストラテジー\n",
    "    cash=10000, # 所持金\n",
    "    commission=0.0005, # 取引手数料（為替価格に対する倍率で指定、為替価格100円でcommission=0.0005なら0.05円）\n",
    "    margin=0.2, # 取引金額に対する所持金の割合、cash=10000でmargin=0.2なら50000分取引する\n",
    "    trade_on_close=True # True：現在の終値で取引する、False：次の時間の始値で取引する\n",
    ")\n",
    "\n",
    "output = bt.run() # バックテスト実行\n",
    "print(output) # 実行結果を表示\n",
    "# bt.plot() # 実行結果のグラフを表示"
   ]
  },
  {
   "cell_type": "code",
   "execution_count": 15,
   "metadata": {},
   "outputs": [
    {
     "data": {
      "text/html": [
       "<div>\n",
       "<style scoped>\n",
       "    .dataframe tbody tr th:only-of-type {\n",
       "        vertical-align: middle;\n",
       "    }\n",
       "\n",
       "    .dataframe tbody tr th {\n",
       "        vertical-align: top;\n",
       "    }\n",
       "\n",
       "    .dataframe thead th {\n",
       "        text-align: right;\n",
       "    }\n",
       "</style>\n",
       "<table border=\"1\" class=\"dataframe\">\n",
       "  <thead>\n",
       "    <tr style=\"text-align: right;\">\n",
       "      <th></th>\n",
       "      <th>Volume</th>\n",
       "      <th>Open</th>\n",
       "      <th>High</th>\n",
       "      <th>Low</th>\n",
       "      <th>Close</th>\n",
       "    </tr>\n",
       "    <tr>\n",
       "      <th>Datetime</th>\n",
       "      <th></th>\n",
       "      <th></th>\n",
       "      <th></th>\n",
       "      <th></th>\n",
       "      <th></th>\n",
       "    </tr>\n",
       "  </thead>\n",
       "  <tbody>\n",
       "    <tr>\n",
       "      <th>2016-01-03 22:00:00</th>\n",
       "      <td>162</td>\n",
       "      <td>120.195</td>\n",
       "      <td>120.235</td>\n",
       "      <td>120.194</td>\n",
       "      <td>120.227</td>\n",
       "    </tr>\n",
       "    <tr>\n",
       "      <th>2016-01-03 22:10:00</th>\n",
       "      <td>208</td>\n",
       "      <td>120.226</td>\n",
       "      <td>120.253</td>\n",
       "      <td>120.209</td>\n",
       "      <td>120.236</td>\n",
       "    </tr>\n",
       "    <tr>\n",
       "      <th>2016-01-03 22:20:00</th>\n",
       "      <td>333</td>\n",
       "      <td>120.235</td>\n",
       "      <td>120.283</td>\n",
       "      <td>120.233</td>\n",
       "      <td>120.274</td>\n",
       "    </tr>\n",
       "    <tr>\n",
       "      <th>2016-01-03 22:30:00</th>\n",
       "      <td>359</td>\n",
       "      <td>120.274</td>\n",
       "      <td>120.304</td>\n",
       "      <td>120.268</td>\n",
       "      <td>120.286</td>\n",
       "    </tr>\n",
       "    <tr>\n",
       "      <th>2016-01-03 22:40:00</th>\n",
       "      <td>242</td>\n",
       "      <td>120.288</td>\n",
       "      <td>120.330</td>\n",
       "      <td>120.277</td>\n",
       "      <td>120.313</td>\n",
       "    </tr>\n",
       "    <tr>\n",
       "      <th>...</th>\n",
       "      <td>...</td>\n",
       "      <td>...</td>\n",
       "      <td>...</td>\n",
       "      <td>...</td>\n",
       "      <td>...</td>\n",
       "    </tr>\n",
       "    <tr>\n",
       "      <th>2019-08-01 03:10:00</th>\n",
       "      <td>62</td>\n",
       "      <td>109.152</td>\n",
       "      <td>109.187</td>\n",
       "      <td>109.152</td>\n",
       "      <td>109.182</td>\n",
       "    </tr>\n",
       "    <tr>\n",
       "      <th>2019-08-01 03:20:00</th>\n",
       "      <td>70</td>\n",
       "      <td>109.180</td>\n",
       "      <td>109.212</td>\n",
       "      <td>109.172</td>\n",
       "      <td>109.204</td>\n",
       "    </tr>\n",
       "    <tr>\n",
       "      <th>2019-08-01 03:30:00</th>\n",
       "      <td>52</td>\n",
       "      <td>109.207</td>\n",
       "      <td>109.210</td>\n",
       "      <td>109.185</td>\n",
       "      <td>109.195</td>\n",
       "    </tr>\n",
       "    <tr>\n",
       "      <th>2019-08-01 03:40:00</th>\n",
       "      <td>73</td>\n",
       "      <td>109.197</td>\n",
       "      <td>109.232</td>\n",
       "      <td>109.192</td>\n",
       "      <td>109.216</td>\n",
       "    </tr>\n",
       "    <tr>\n",
       "      <th>2019-08-01 03:50:00</th>\n",
       "      <td>71</td>\n",
       "      <td>109.218</td>\n",
       "      <td>109.252</td>\n",
       "      <td>109.218</td>\n",
       "      <td>109.239</td>\n",
       "    </tr>\n",
       "  </tbody>\n",
       "</table>\n",
       "<p>133486 rows × 5 columns</p>\n",
       "</div>"
      ],
      "text/plain": [
       "                     Volume     Open     High      Low    Close\n",
       "Datetime                                                       \n",
       "2016-01-03 22:00:00     162  120.195  120.235  120.194  120.227\n",
       "2016-01-03 22:10:00     208  120.226  120.253  120.209  120.236\n",
       "2016-01-03 22:20:00     333  120.235  120.283  120.233  120.274\n",
       "2016-01-03 22:30:00     359  120.274  120.304  120.268  120.286\n",
       "2016-01-03 22:40:00     242  120.288  120.330  120.277  120.313\n",
       "...                     ...      ...      ...      ...      ...\n",
       "2019-08-01 03:10:00      62  109.152  109.187  109.152  109.182\n",
       "2019-08-01 03:20:00      70  109.180  109.212  109.172  109.204\n",
       "2019-08-01 03:30:00      52  109.207  109.210  109.185  109.195\n",
       "2019-08-01 03:40:00      73  109.197  109.232  109.192  109.216\n",
       "2019-08-01 03:50:00      71  109.218  109.252  109.218  109.239\n",
       "\n",
       "[133486 rows x 5 columns]"
      ]
     },
     "execution_count": 15,
     "metadata": {},
     "output_type": "execute_result"
    }
   ],
   "source": [
    "df"
   ]
  },
  {
   "cell_type": "code",
   "execution_count": 37,
   "metadata": {},
   "outputs": [],
   "source": [
    "#!/usr/bin/env python\n",
    "# -*- coding: utf-8 -*-\n",
    "\n",
    "import json\n",
    "import sys\n",
    "import urllib.parse\n",
    "import urllib.request\n",
    "import datetime\n",
    "import os\n",
    "\n",
    "# weather's API\n",
    "WEATHER_URL=\"http://weather.livedoor.com/forecast/webservice/json/v1?city=%s\"\n",
    "CITY_CODE=\"130010\" # TOKYO\n",
    "\n",
    "# LINE notify's API\n",
    "LINE_TOKEN= \"VnBMLthjimXATrCh2zJApeQMEwTqw3mUaGar2HKa1nH\"\n",
    "LINE_NOTIFY_URL=\"https://notify-api.line.me/api/notify\"\n",
    "\n",
    "\n",
    "def set_weather_info():\n",
    "    msg = \"Hello!\"\n",
    "    return msg\n",
    "\n",
    "def send_weather_info(msg):\n",
    "    method = \"POST\"\n",
    "    headers = {\"Authorization\": \"Bearer %s\" % LINE_TOKEN}\n",
    "    payload = {\"message\": msg}\n",
    "    try:\n",
    "        payload = urllib.parse.urlencode(payload).encode(\"utf-8\")\n",
    "        req = urllib.request.Request(\n",
    "            url=LINE_NOTIFY_URL, data=payload, method=method, headers=headers)\n",
    "        urllib.request.urlopen(req)\n",
    "    except Exception as e:\n",
    "        print (\"Exception Error: \", e)\n",
    "        sys.exit(1)\n",
    "\n",
    "def OtenkiNotify():\n",
    "    msg = set_weather_info()\n",
    "    print (msg)\n",
    "    send_weather_info(msg)\n"
   ]
  },
  {
   "cell_type": "code",
   "execution_count": 40,
   "metadata": {},
   "outputs": [
    {
     "name": "stdout",
     "output_type": "stream",
     "text": [
      "Hello!\n"
     ]
    }
   ],
   "source": [
    "OtenkiNotify()"
   ]
  },
  {
   "cell_type": "code",
   "execution_count": 42,
   "metadata": {},
   "outputs": [],
   "source": [
    "from oandapyV20 import API\n",
    "from oandapyV20.exceptions import V20Error\n",
    "from oandapyV20.endpoints.pricing import PricingStream\n",
    "import oandapyV20.endpoints.orders as orders\n",
    "import oandapyV20.endpoints.instruments as instruments\n",
    "\n",
    "accountID = \"101-009-15065836-001\"\n",
    "access_token = ' 8ec2523da72b0e7d818764094c98cc74-3c1036b692b3c82e3e46847a895641ed'\n",
    "\n",
    "api = API(access_token=access_token, environment=\"practice\")\n",
    "\n",
    "params = { \"instruments\": \"EUR_USD,EUR_JPY,USD_JPY\" }\n",
    "import oandapyV20.endpoints.accounts as accounts\n",
    "r = accounts.AccountInstruments(accountID=accountID, params=params)\n",
    "output2=api.request(r)\n",
    "\n"
   ]
  },
  {
   "cell_type": "code",
   "execution_count": 46,
   "metadata": {},
   "outputs": [
    {
     "name": "stdout",
     "output_type": "stream",
     "text": [
      "[{'name': 'EUR_USD', 'type': 'CURRENCY', 'displayName': 'EUR/USD', 'pipLocation': -4, 'displayPrecision': 5, 'tradeUnitsPrecision': 0, 'minimumTradeSize': '1', 'maximumTrailingStopDistance': '1.00000', 'minimumTrailingStopDistance': '0.00050', 'maximumPositionSize': '0', 'maximumOrderUnits': '100000000', 'marginRate': '0.04', 'guaranteedStopLossOrderMode': 'DISABLED', 'tags': [{'type': 'ASSET_CLASS', 'name': 'CURRENCY'}], 'financing': {'longRate': '-0.0174', 'shortRate': '-0.0032', 'financingDaysOfWeek': [{'dayOfWeek': 'MONDAY', 'daysCharged': 1}, {'dayOfWeek': 'TUESDAY', 'daysCharged': 1}, {'dayOfWeek': 'WEDNESDAY', 'daysCharged': 3}, {'dayOfWeek': 'THURSDAY', 'daysCharged': 1}, {'dayOfWeek': 'FRIDAY', 'daysCharged': 1}, {'dayOfWeek': 'SATURDAY', 'daysCharged': 0}, {'dayOfWeek': 'SUNDAY', 'daysCharged': 0}]}}, {'name': 'EUR_JPY', 'type': 'CURRENCY', 'displayName': 'EUR/JPY', 'pipLocation': -2, 'displayPrecision': 3, 'tradeUnitsPrecision': 0, 'minimumTradeSize': '1', 'maximumTrailingStopDistance': '100.000', 'minimumTrailingStopDistance': '0.050', 'maximumPositionSize': '0', 'maximumOrderUnits': '100000000', 'marginRate': '0.04', 'guaranteedStopLossOrderMode': 'DISABLED', 'tags': [{'type': 'ASSET_CLASS', 'name': 'CURRENCY'}], 'financing': {'longRate': '-0.014', 'shortRate': '-0.0055', 'financingDaysOfWeek': [{'dayOfWeek': 'MONDAY', 'daysCharged': 1}, {'dayOfWeek': 'TUESDAY', 'daysCharged': 1}, {'dayOfWeek': 'WEDNESDAY', 'daysCharged': 3}, {'dayOfWeek': 'THURSDAY', 'daysCharged': 1}, {'dayOfWeek': 'FRIDAY', 'daysCharged': 1}, {'dayOfWeek': 'SATURDAY', 'daysCharged': 0}, {'dayOfWeek': 'SUNDAY', 'daysCharged': 0}]}}, {'name': 'USD_JPY', 'type': 'CURRENCY', 'displayName': 'USD/JPY', 'pipLocation': -2, 'displayPrecision': 3, 'tradeUnitsPrecision': 0, 'minimumTradeSize': '1', 'maximumTrailingStopDistance': '100.000', 'minimumTrailingStopDistance': '0.050', 'maximumPositionSize': '0', 'maximumOrderUnits': '100000000', 'marginRate': '0.04', 'guaranteedStopLossOrderMode': 'DISABLED', 'tags': [{'type': 'ASSET_CLASS', 'name': 'CURRENCY'}], 'financing': {'longRate': '-0.0051', 'shortRate': '-0.0110', 'financingDaysOfWeek': [{'dayOfWeek': 'MONDAY', 'daysCharged': 1}, {'dayOfWeek': 'TUESDAY', 'daysCharged': 1}, {'dayOfWeek': 'WEDNESDAY', 'daysCharged': 3}, {'dayOfWeek': 'THURSDAY', 'daysCharged': 1}, {'dayOfWeek': 'FRIDAY', 'daysCharged': 1}, {'dayOfWeek': 'SATURDAY', 'daysCharged': 0}, {'dayOfWeek': 'SUNDAY', 'daysCharged': 0}]}}]\n"
     ]
    }
   ],
   "source": [
    "print(output2['instruments'])"
   ]
  },
  {
   "cell_type": "code",
   "execution_count": 51,
   "metadata": {},
   "outputs": [],
   "source": [
    "import oandapyV20.endpoints.instruments as instruments\n",
    "params = {\n",
    "  \"count\": 1,\n",
    "  \"granularity\": \"M10\"\n",
    "}\n",
    "r = instruments.InstrumentsCandles(instrument=\"USD_JPY\", params=params)\n",
    "output = api.request(r)"
   ]
  },
  {
   "cell_type": "code",
   "execution_count": 59,
   "metadata": {},
   "outputs": [
    {
     "data": {
      "text/plain": [
       "{'o': '105.803', 'h': '105.842', 'l': '105.795', 'c': '105.808'}"
      ]
     },
     "execution_count": 59,
     "metadata": {},
     "output_type": "execute_result"
    }
   ],
   "source": [
    "output['candles'][0]['mid']"
   ]
  },
  {
   "cell_type": "code",
   "execution_count": null,
   "metadata": {},
   "outputs": [],
   "source": []
  }
 ],
 "metadata": {
  "kernelspec": {
   "display_name": "Python 3",
   "language": "python",
   "name": "python3"
  },
  "language_info": {
   "codemirror_mode": {
    "name": "ipython",
    "version": 3
   },
   "file_extension": ".py",
   "mimetype": "text/x-python",
   "name": "python",
   "nbconvert_exporter": "python",
   "pygments_lexer": "ipython3",
   "version": "3.7.5"
  }
 },
 "nbformat": 4,
 "nbformat_minor": 2
}
